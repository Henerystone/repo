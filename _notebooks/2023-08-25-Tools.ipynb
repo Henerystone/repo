{
 "cells": [
  {
   "cell_type": "markdown",
   "metadata": {},
   "source": [
    "# Tools:\n",
    "- toc: true\n",
    "- comments: true\n",
    "- permalink: /tools_blog1\n",
    "- categories: [blog]"
   ]
  },
  {
   "cell_type": "markdown",
   "metadata": {},
   "source": [
    "- In CSA, we are going to use several tools that will help us increase the efficiency of our coding.\n",
    "\n",
    "- These tools are incredibly important as they help us save time in tasks such as pulling, commiting and creating branches, which, without the tools, would be extremely time consuming and pointless."
   ]
  }
 ],
 "metadata": {
  "language_info": {
   "name": "python"
  },
  "orig_nbformat": 4
 },
 "nbformat": 4,
 "nbformat_minor": 2
}
