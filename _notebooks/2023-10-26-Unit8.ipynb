{
 "cells": [
  {
   "cell_type": "markdown",
   "metadata": {},
   "source": [
    "---\n",
    "layout: post\n",
    "title: Unit 8 Lesson - 2D Arrays\n",
    "description: Group Lesson on Unit 8 which covers 2D arrays\n",
    "toc: true\n",
    "permalink: /unit8lesson\n",
    "---"
   ]
  },
  {
   "cell_type": "markdown",
   "metadata": {},
   "source": [
    "# 8.1"
   ]
  },
  {
   "cell_type": "markdown",
   "metadata": {},
   "source": [
    "## What is a 2D array\n",
    "\n",
    "A 2D array is an array of arrays.\n",
    "\n",
    "![image.png](https://github.com/Krishiv111/KPNSTeam/assets/111609656/fc04c520-ec82-414e-897c-0b0753c73f8d)\n",
    "\n",
    "## Why use 2D arrays?\n",
    "\n",
    "1D array of people \n",
    "```\n",
    "{\n",
    "\"Patrick Mahomes\"\n",
    "\"Mr. Mortensen\"\n",
    "\"Taylor Swift\"\n",
    "\"Margot Robbie\"\n",
    "}\n",
    "```\n",
    "\n",
    "2D array of men and women \n",
    "```\n",
    "{\n",
    "{ \"Patrick Mahomes\", \"Mr. Mortensen\"} ,\n",
    "{\"Taylor Swift\", \"Margot Robbie\"}\n",
    "}\n",
    "```\n"
   ]
  },
  {
   "cell_type": "markdown",
   "metadata": {},
   "source": [
    "## Declaring a 2D Array\n",
    "\n",
    "Very similar to declaring a 1D array.\n",
    "\n",
    "```\n",
    "DataType[] name // 1D array\n",
    "DataType[][] name // 2D array\n",
    "```\n"
   ]
  },
  {
   "cell_type": "code",
   "execution_count": 2,
   "metadata": {
    "vscode": {
     "languageId": "java"
    }
   },
   "outputs": [],
   "source": [
    "int[][] intArray; //primitive\n",
    "String[][] stringArray; //object"
   ]
  },
  {
   "cell_type": "markdown",
   "metadata": {},
   "source": [
    "## Initalizing a 2D Array\n"
   ]
  },
  {
   "cell_type": "code",
   "execution_count": 1,
   "metadata": {
    "vscode": {
     "languageId": "java"
    }
   },
   "outputs": [
    {
     "name": "stdout",
     "output_type": "stream",
     "text": [
      "1 2 3 4 \n",
      "5 6 7 8 \n",
      "9 10 11 12 \n"
     ]
    }
   ],
   "source": [
    "public class TwoDArrayExample {\n",
    "    public static void main(String[] args) {\n",
    "        int rows = 3;\n",
    "        int cols = 4;\n",
    "        \n",
    "        // Declare and initialize a 2D array\n",
    "        int[][] myArray = {\n",
    "            {1, 2, 3, 4},\n",
    "            {5, 6, 7, 8},\n",
    "            {9, 10, 11, 12}\n",
    "        };\n",
    "        \n",
    "        // Access and print elements\n",
    "        for (int i = 0; i < rows; i++) {\n",
    "            for (int j = 0; j < cols; j++) {\n",
    "                System.out.print(myArray[i][j] + \" \");\n",
    "            }\n",
    "            System.out.println();\n",
    "        }\n",
    "    }\n",
    "}\n",
    "TwoDArrayExample.main(null)"
   ]
  },
  {
   "cell_type": "markdown",
   "metadata": {},
   "source": [
    "# Popcorn HACK 1"
   ]
  },
  {
   "cell_type": "code",
   "execution_count": null,
   "metadata": {
    "vscode": {
     "languageId": "java"
    }
   },
   "outputs": [],
   "source": [
    "public class TwoDArrayHack1 {\n",
    "    public static void main(String[] args) {\n",
    "        int[][] myArray = {\n",
    "            {1, 2, 3, 4},\n",
    "            {5, 6, 7, 8},\n",
    "            {9, 10, 11, 12}\n",
    "        };\n",
    "    }\n",
    "\n",
    "}"
   ]
  },
  {
   "cell_type": "markdown",
   "metadata": {},
   "source": [
    "# More Initializing and Accessing Array Elements of a 2D Array"
   ]
  },
  {
   "cell_type": "code",
   "execution_count": null,
   "metadata": {
    "vscode": {
     "languageId": "java"
    }
   },
   "outputs": [],
   "source": [
    "class Student {\n",
    "    private String name;\n",
    "    private int age;\n",
    "\n",
    "    // Constructor to initialize a Student object\n",
    "    public Student(String name, int age) {\n",
    "        this.name = name;\n",
    "        this.age = age;\n",
    "    }\n",
    "\n",
    "    // Getter method to retrieve the student's name\n",
    "    public String getName() {\n",
    "        return name;\n",
    "    }\n",
    "\n",
    "    // Getter method to retrieve the student's age\n",
    "    public int getAge() {\n",
    "        return age;\n",
    "    }\n",
    "\n",
    "    // Method to print student information\n",
    "    public void printInfo() {\n",
    "        System.out.println(\"Name: \" + name);\n",
    "        System.out.println(\"Age: \" + age);\n",
    "    }\n",
    "}\n",
    "\n",
    "public class TwoDArrayHack2 {\n",
    "    public static void main(String[] args) {\n",
    "        // Declare and initialize a 2D array with 6 rows and 6 columns of Student objects\n",
    "        Student[][] studentArray = new Student[6][6];\n",
    "\n",
    "        // Creating and initializing Student objects in the array\n",
    "        studentArray[0][0] = new Student(\"Yuri\", 16);\n",
    "        studentArray[1][2] = new Student(\"Gorlcok\", 135);\n",
    "\n",
    "        // Accessing and using the Student objects' methods\n",
    "        String studentName = studentArray[0][0].getName();\n",
    "        int studentAge = studentArray[0][0].getAge();\n",
    "\n",
    "        System.out.println(\"Student Name: \" + studentName);\n",
    "        System.out.println(\"Student Age: \" + studentAge);\n",
    "\n",
    "        studentArray[1][2].printInfo();\n",
    "    }\n",
    "}\n",
    "TwoDArrayHack2.main(null)"
   ]
  },
  {
   "cell_type": "markdown",
   "metadata": {},
   "source": [
    "# More Initializing + Accessing + Popcorn HACK 2"
   ]
  },
  {
   "cell_type": "code",
   "execution_count": null,
   "metadata": {
    "vscode": {
     "languageId": "java"
    }
   },
   "outputs": [],
   "source": [
    "class NFLTeams {\n",
    "    private String teamName;\n",
    "    private String city;\n",
    "    private int championships;\n",
    "\n",
    "    // Constructor to initialize NFL team data\n",
    "    public NFLTeams(String teamName, String city, int championships) {\n",
    "        this.teamName = teamName;\n",
    "        this.city = city;\n",
    "        this.championships = championships;\n",
    "    }\n",
    "\n",
    "    // Method to display team information\n",
    "    public void displayTeamInfo() {\n",
    "        System.out.println(\"Team: \" + teamName);\n",
    "        System.out.println(\"City: \" + city);\n",
    "        System.out.println(\"Championships: \" + championships);\n",
    "    }\n",
    "}\n",
    "\n",
    "public class NFLTeams2DArray {\n",
    "    public static void main(String[] args) {\n",
    "        // Declare a 2D array of NFLTeams to store data for 5 teams and 5 columns\n",
    "        NFLTeams[][] nflArray = {\n",
    "            {new NFLTeams(\"Team1\", \"City1\", 2), new NFLTeams(\"Team2\", \"City2\", 3), new NFLTeams(\"Team3\", \"City3\", 1), new NFLTeams(\"Team4\", \"City4\", 0), new NFLTeams(\"Team5\", \"City5\", 5)},\n",
    "            {new NFLTeams(\"Team6\", \"City6\", 3), new NFLTeams(\"Team7\", \"City7\", 4), new NFLTeams(\"Team8\", \"City8\", 0), new NFLTeams(\"Team9\", \"City9\", 1), new NFLTeams(\"Team10\", \"City10\", 2)},\n",
    "            {new NFLTeams(\"Team11\", \"City11\", 1), new NFLTeams(\"Team12\", \"City12\", 0), new NFLTeams(\"Team13\", \"City13\", 3), new NFLTeams(\"Team14\", \"City14\", 2), new NFLTeams(\"Team15\", \"City15\", 4)},\n",
    "            {new NFLTeams(\"Team16\", \"City16\", 2), new NFLTeams(\"Team17\", \"City17\", 4), new NFLTeams(\"Team18\", \"City18\", 1), new NFLTeams(\"Team19\", \"City19\", 5), new NFLTeams(\"Team20\", \"City20\", 3)},\n",
    "            {new NFLTeams(\"Team21\", \"City21\", 0), new NFLTeams(\"Team22\", \"City22\", 2), new NFLTeams(\"Team23\", \"City23\", 5), new NFLTeams(\"Team24\", \"City24\", 3), new NFLTeams(\"Team25\", \"City25\", 1)}\n",
    "        };\n",
    "\n",
    "        // Print out Team 17's Team info\n",
    "        nflArray[3][1].displayTeamInfo();\n",
    "        \n",
    "        // Print out Team 21's Team Info\n",
    "\n",
    "        // Print out Team 3's team Info\n",
    "\n",
    "    }\n",
    "}\n",
    "NFLTeams2DArray.main(null)"
   ]
  },
  {
   "cell_type": "markdown",
   "metadata": {},
   "source": [
    "## Updating 2D Arrays"
   ]
  },
  {
   "cell_type": "code",
   "execution_count": null,
   "metadata": {
    "vscode": {
     "languageId": "java"
    }
   },
   "outputs": [],
   "source": [
    "public class Update2DArray {\n",
    "    public static void main(String[] args) {\n",
    "        // Create a 3x3 2D array of integers\n",
    "        int[][] matrix = {\n",
    "            {1, 2, 3},\n",
    "            {4, 5, 6},\n",
    "            {7, 8, 9}\n",
    "        };\n",
    "\n",
    "        // Display the original 2D array\n",
    "        System.out.println(\"Original 2D Array:\");\n",
    "        printArray(matrix);\n",
    "\n",
    "        // Update specific elements in the array\n",
    "        matrix[0][0] = 11;  // Update the element in the first row, first column\n",
    "        matrix[1][1] = 22;  // Update the element in the second row, second column\n",
    "        matrix[2][2] = 33;  // Update the element in the third row, third column\n",
    "\n",
    "        // Display the updated 2D array\n",
    "        System.out.println(\"\\nUpdated 2D Array:\");\n",
    "        printArray(matrix);\n",
    "    }\n",
    "\n",
    "    // Helper method to print the 2D array\n",
    "    public static void printArray(int[][] arr) {\n",
    "        for (int i = 0; i < arr.length; i++) {\n",
    "            for (int j = 0; j < arr[i].length; j++) {\n",
    "                System.out.print(arr[i][j] + \" \");\n",
    "            }\n",
    "            System.out.println();\n",
    "        }\n",
    "    }\n",
    "}\n",
    "Update2DArray.main(null)\n"
   ]
  },
  {
   "cell_type": "markdown",
   "metadata": {},
   "source": [
    "# Popcorn HACK 3"
   ]
  },
  {
   "cell_type": "code",
   "execution_count": null,
   "metadata": {
    "vscode": {
     "languageId": "java"
    }
   },
   "outputs": [],
   "source": [
    "public class Update2DArrayHACK {\n",
    "\n",
    "    // Helper method to print the 2D integer array\n",
    "    public static void printIntArray(int[][] arr) {\n",
    "        for (int i = 0; i < arr.length; i++) {\n",
    "            for (int j = 0; j < arr[i].length; j++) {\n",
    "                System.out.print(arr[i][j] + \" \");\n",
    "            }\n",
    "            System.out.println();\n",
    "        }\n",
    "    }\n",
    "\n",
    "    public static void main(String[] args) {\n",
    "\n",
    "        // Declare and Initialize a 2D integer array with the same dimensions (5x5)\n",
    "        int[][] integerArray = {\n",
    "            {1, 2, 3, 4, 5},\n",
    "            {6, 7, 8, 9, 10},\n",
    "            {11, 12, 13, 14, 15},\n",
    "            {16, 17, 18, 19, 20},\n",
    "            {21, 22, 23, 24, 25}\n",
    "        };\n",
    "\n",
    "     // Update the element in the first row, first column to 250\n",
    "     // Update the element in the third row, third column to 69\n",
    "     // Update the element in the fifth row, fifth column to 96\n",
    "    // Update the element in the first row, fifth column to 125\n",
    "     // Update the element in the second row, third column to 135        \n",
    "\n",
    "        // Display the updated 2D integer array\n",
    "        printIntArray(integerArray);\n",
    "    }\n",
    "}\n",
    "Update2DArrayHACK.main(null)"
   ]
  },
  {
   "cell_type": "markdown",
   "metadata": {},
   "source": [
    "## Popcorn HACK 4 - Review Quiz\n",
    "\n",
    "```\n",
    "What is a 2D array?\n",
    "A. A single row of elements.\n",
    "B. A data structure with rows and columns.\n",
    "C. A list of 2 elements.\n",
    "D. A binary representation of data.\n",
    "\n",
    "How do you declare a 2D array in Java?\n",
    "A. int myArray = new int[3][3];\n",
    "B. 2DArray myArray = new 2DArray[3][3];\n",
    "C. int[][] myArray;\n",
    "D. myArray = declare 2D array;\n",
    "\n",
    "How do you access an element in a 2D array at row 2 and column 3?\n",
    "A. myArray[3][2]\n",
    "B. myArray[2][3]\n",
    "C. myArray[1][2]\n",
    "D. myArray[2][1]\n",
    "\n",
    "What is the purpose of initializing a 2D array?\n",
    "A. To specify its data type.\n",
    "B. To allocate memory for the array.\n",
    "C. To access its elements.\n",
    "D. To declare the number of rows and columns.\n",
    "\n",
    "In a 2D array, what does myArray[2][3] represent?\n",
    "A. The element in the second row and third column.\n",
    "B. The element in the third row and second column.\n",
    "C. The element in the third row and third column.\n",
    "D. The element in the second column and third row.\n",
    "\n",
    "What happens when you update an element in a 2D array in Java?\n",
    "A. The entire array is cleared.\n",
    "B. Only the updated element is affected.\n",
    "C. The entire row is shifted.\n",
    "D. The element is removed from the array.\n",
    "\n",
    "Which of the following represents a 2D array with 4 rows and 3 columns in Java?\n",
    "A. int[4][3] myArray;\n",
    "B. myArray[4,3] = int;\n",
    "C. int[3][4] myArray;\n",
    "D. myArray[3][4] = int;\n",
    "```"
   ]
  },
  {
   "cell_type": "markdown",
   "metadata": {},
   "source": [
    "## HACKS"
   ]
  },
  {
   "cell_type": "markdown",
   "metadata": {},
   "source": [
    "## Finish Popcorn HACKS, type DONE Here when you finish\n",
    "\n",
    "## HACK 1\n",
    "- Create a class (for object 2D arrays), and declare and initialize a 2D array\n",
    "- Show updating a 2D array with object functionality"
   ]
  },
  {
   "cell_type": "markdown",
   "metadata": {},
   "source": [
    "# 8.2"
   ]
  },
  {
   "cell_type": "markdown",
   "metadata": {},
   "source": [
    "## Traversing\n",
    "- Traversing is known to acsess each element in a array also known as itteration, in the case of 2D Arrays we will acsess elements in the 2D array, but we will need to use specfiic methods of nested for loops, and enhanced for loops."
   ]
  },
  {
   "cell_type": "code",
   "execution_count": 10,
   "metadata": {
    "vscode": {
     "languageId": "java"
    }
   },
   "outputs": [
    {
     "name": "stdout",
     "output_type": "stream",
     "text": [
      "Element at index 0 is: 1\n",
      "Element at index 1 is: 2\n",
      "Element at index 2 is: 3\n",
      "Element at index 3 is: 4\n",
      "Element at index 4 is: 5\n"
     ]
    }
   ],
   "source": [
    "public class ArrayTraversalExample {\n",
    "    public static void main(String[] args) {\n",
    "        // Array that is created in order to be traversed/itterate through\n",
    "        int[] numbers = {1, 2, 3, 4, 5};\n",
    "\n",
    "        // Traverse the array and print each element\n",
    "        // How this works: 1. First it sets i to 0 in order to keep track of the index by using a for loop\n",
    "        // Then it checks if the number is greater index if so then it will continue\n",
    "        // uses i++ to continue to go through the indicies \n",
    "        // prints outs the number if greater than index\n",
    "        for (int i = 0; i < numbers.length; i++) {\n",
    "            System.out.println(\"Element at index \" + i + \" is: \" + numbers[i]);\n",
    "        }\n",
    "    }\n",
    "}\n",
    "ArrayTraversalExample.main(null)"
   ]
  },
  {
   "cell_type": "markdown",
   "metadata": {},
   "source": [
    "# Nested For Loop\n",
    "- A nested for loop is a type of loop that contains an inner loop and outer loop, allowing to create a two dimensional piece that will now allow us to traverse through 2D Arrays."
   ]
  },
  {
   "cell_type": "code",
   "execution_count": 9,
   "metadata": {
    "vscode": {
     "languageId": "java"
    }
   },
   "outputs": [
    {
     "name": "stdout",
     "output_type": "stream",
     "text": [
      "1 2 \n",
      "1 2 \n",
      "1 2 \n",
      "1 2 \n"
     ]
    }
   ],
   "source": [
    "public class NestedLoops {\n",
    "    public static void main(String[] args) {\n",
    "        for (int outer = 1; outer < 5; outer++) {\n",
    "            for (int inner = 1; inner < 3; inner++) {\n",
    "                System.out.print(inner + \" \");\n",
    "            }\n",
    "            System.out.println();\n",
    "        }\n",
    "    }\n",
    "}\n",
    "NestedLoops.main(null)"
   ]
  },
  {
   "cell_type": "markdown",
   "metadata": {},
   "source": [
    "# Enhanced For Loop\n"
   ]
  },
  {
   "cell_type": "code",
   "execution_count": 8,
   "metadata": {
    "vscode": {
     "languageId": "java"
    }
   },
   "outputs": [
    {
     "name": "stdout",
     "output_type": "stream",
     "text": [
      "Apple\n",
      "Banana\n",
      "Cherry\n",
      "Date\n",
      "Fig\n"
     ]
    }
   ],
   "source": [
    "public class EnhancedForLoopExample {\n",
    "    public static void main(String[] args) {\n",
    "        String[] fruits = {\"Apple\", \"Banana\", \"Cherry\", \"Date\", \"Fig\"};\n",
    "\n",
    "        // Here you use a en enhanced for loop to itterate through the array of strings\n",
    "        for (String fruit : fruits) {\n",
    "            System.out.println(fruit);\n",
    "        }\n",
    "    }\n",
    "}\n",
    "EnhancedForLoopExample.main(null)"
   ]
  },
  {
   "cell_type": "markdown",
   "metadata": {},
   "source": [
    "## Cumulative Knowledge  \n",
    "- Hint: Popcorn Hacks\n",
    "- From the class discussion fill these out\n",
    "\n",
    "- **What does traverse mean?**\n",
    "- **What is a nested loop**\n",
    "- **What is an enhanced for loop**"
   ]
  },
  {
   "cell_type": "markdown",
   "metadata": {},
   "source": [
    "# Nested Loops traversing through a 2D Array"
   ]
  },
  {
   "cell_type": "code",
   "execution_count": 7,
   "metadata": {
    "vscode": {
     "languageId": "java"
    }
   },
   "outputs": [
    {
     "name": "stdout",
     "output_type": "stream",
     "text": [
      "1 2 3 \n",
      "4 5 6 \n",
      "7 8 9 \n"
     ]
    }
   ],
   "source": [
    "public class TwoDArrayTraversal {\n",
    "    public static void main(String[] args) {\n",
    "        // First Create the 2D array\n",
    "        int[][] twoDArray = {\n",
    "            {1, 2, 3},\n",
    "            {4, 5, 6},\n",
    "            {7, 8, 9}\n",
    "        };\n",
    "        \n",
    "        // Using a Nested loops to traverse the 2D array\n",
    "        for (int row = 0; row < 3; row++) {\n",
    "            for (int col = 0; col < 3; col++) {\n",
    "                int element = twoDArray[row][col];\n",
    "                System.out.print(element + \" \");\n",
    "            }\n",
    "            System.out.println(); \n",
    "        }\n",
    "    }\n",
    "}\n",
    "TwoDArrayTraversal.main(null)"
   ]
  },
  {
   "cell_type": "markdown",
   "metadata": {},
   "source": [
    "### Popcorn Hack\n",
    "- What would you replace the question marks with if we didnt know the dimensions of this 2D Array"
   ]
  },
  {
   "cell_type": "code",
   "execution_count": null,
   "metadata": {
    "vscode": {
     "languageId": "java"
    }
   },
   "outputs": [],
   "source": [
    "public class TwoDArrayTraversal {\n",
    "    public static void main(String[] args) {\n",
    "        // First Create the 2D array\n",
    "        int[][] twoDArray = {\n",
    "            {1, 2, 3},\n",
    "            {4, 5, 6},\n",
    "            {7, 8, 9}\n",
    "        };\n",
    "        \n",
    "        // Using a Nested loops to traverse the 2D array\n",
    "        for (int row = 0; row < ???; row++) { //grid makes sense becuase it gives you dimension\n",
    "            for (int col = 0; col < ???; col++) { // colliumn makes senseas it starts at 0 \n",
    "                int element = twoDArray[row][col];\n",
    "                System.out.print(element + \" \");\n",
    "            }\n",
    "            System.out.println(); \n",
    "        }\n",
    "    }\n",
    "}\n",
    "TwoDArrayTraversal.main(null)"
   ]
  },
  {
   "cell_type": "markdown",
   "metadata": {},
   "source": [
    "### Practice\n",
    "- Create a 2D Array Based and Traverse through it using a nested loop based on this problem"
   ]
  },
  {
   "cell_type": "code",
   "execution_count": null,
   "metadata": {
    "vscode": {
     "languageId": "java"
    }
   },
   "outputs": [],
   "source": [
    "public class 2DPractice {\n",
    "    public static void main(String[] args) {\n",
    "        \n",
    "        int[][] complexIntArray = {\n",
    "            {1, 2, 3, 4},\n",
    "            {5, 6, 7, 8},\n",
    "            {9, 10, 11, 12}\n",
    "        };\n",
    "\n",
    "       // MISSING CODE HERE \n",
    "      }\n",
    "    }"
   ]
  },
  {
   "cell_type": "markdown",
   "metadata": {},
   "source": [
    "## Using Enhanced For- Loops to Traverse an Array"
   ]
  },
  {
   "cell_type": "code",
   "execution_count": 5,
   "metadata": {
    "vscode": {
     "languageId": "java"
    }
   },
   "outputs": [
    {
     "name": "stdout",
     "output_type": "stream",
     "text": [
      "1 2 3 \n",
      "4 5 6 \n",
      "7 8 9 \n"
     ]
    }
   ],
   "source": [
    "public class EnhancedForLoop2DArray {\n",
    "    public static void main(String[] args) {\n",
    "        // Define and initialize a 2D array\n",
    "        int[][] twoDArray = {\n",
    "            {1, 2, 3},\n",
    "            {4, 5, 6},\n",
    "            {7, 8, 9}\n",
    "        };\n",
    "\n",
    "        // Use nested enhanced for loops to traverse the 2D array\n",
    "        for (int[] row : twoDArray) {\n",
    "            for (int element : row) {\n",
    "                System.out.print(element + \" \");\n",
    "            }\n",
    "            System.out.println(); // Move to the next row\n",
    "        }\n",
    "    }\n",
    "}\n",
    "EnhancedForLoop2DArray.main(null)"
   ]
  },
  {
   "cell_type": "markdown",
   "metadata": {},
   "source": [
    "# Row Major Order Vs Column Major Order \n",
    "\n",
    "- PopCorn Hacks \n",
    "\n",
    "- **Whats the difference between row major order and column major order**"
   ]
  },
  {
   "cell_type": "code",
   "execution_count": 1,
   "metadata": {
    "vscode": {
     "languageId": "java"
    }
   },
   "outputs": [
    {
     "name": "stdout",
     "output_type": "stream",
     "text": [
      "A B C \n",
      "D E F \n",
      "G H I \n"
     ]
    }
   ],
   "source": [
    "public class PrintArray {\n",
    "    public static void printArray(String[][] grid) {\n",
    "        for (int row = 0; row < grid.length; row++) {\n",
    "            for (int col = 0; col < grid[0].length; col++) {\n",
    "                System.out.print(grid[row][col] + \" \");\n",
    "            }\n",
    "            System.out.println(); \n",
    "        }\n",
    "    }\n",
    "\n",
    "    public static void main(String[] args) {\n",
    "        String[][] myGrid = {\n",
    "            {\"A\", \"B\", \"C\"},\n",
    "            {\"D\", \"E\", \"F\"},\n",
    "            {\"G\", \"H\", \"I\"}\n",
    "        };\n",
    "        printArray(myGrid);\n",
    "    }\n",
    "}\n",
    "PrintArray.main(null)"
   ]
  },
  {
   "cell_type": "code",
   "execution_count": 4,
   "metadata": {
    "vscode": {
     "languageId": "java"
    }
   },
   "outputs": [
    {
     "name": "stdout",
     "output_type": "stream",
     "text": [
      "A D G \n",
      "B E H \n",
      "C F I \n"
     ]
    }
   ],
   "source": [
    "public class PrintArray {\n",
    "    public static void printArray(String[][] grid) {\n",
    "        for (int col = 0; col < grid[0].length; col++) // outer loop for collums switched\n",
    "        { for (int row = 0; row < grid.length; row++) //notice the outer is switched with the inner loop for rows\n",
    "             {\n",
    "                System.out.print(grid[row][col] + \" \");\n",
    "            }\n",
    "            System.out.println(); \n",
    "        }\n",
    "    }\n",
    "\n",
    "    public static void main(String[] args) {\n",
    "        String[][] myGrid = {\n",
    "            {\"A\", \"B\", \"C\"},\n",
    "            {\"D\", \"E\", \"F\"},\n",
    "            {\"G\", \"H\", \"I\"}\n",
    "        };\n",
    "        printArray(myGrid);\n",
    "    }\n",
    "}\n",
    "PrintArray.main(null)"
   ]
  },
  {
   "cell_type": "markdown",
   "metadata": {},
   "source": [
    "# Practice\n",
    "- Print My AP CS A Class Rocks Using a column major traversal."
   ]
  },
  {
   "cell_type": "code",
   "execution_count": null,
   "metadata": {
    "vscode": {
     "languageId": "java"
    }
   },
   "outputs": [],
   "source": [
    "public class PrintArray {\n",
    "    public static void printArray(String[][] grid) {\n",
    "        for (???) {\n",
    "            for (???) {\n",
    "                System.out.print(grid[???][???] + \" \");\n",
    "            }\n",
    "        }\n",
    "    }\n",
    "\n",
    "    public static void main(String[] args) {\n",
    "        String[][] message = {\n",
    "            {\"My\", \"Ap\", \"Cs\", \"R\"},\n",
    "            {\"AP\", \"A\", \"Class\", \"o\"},\n",
    "            {\"C\", \"p\", \" \", \"c\"},\n",
    "            {\"S\", \" \", \" \", \"k\"},\n",
    "            {\"s\", \" \", \"s\", \"!\"},\n",
    "        };\n",
    "\n",
    "        printArray(message);\n",
    "    }\n",
    "}\n",
    "\n",
    "\n",
    "PrintArray.main(null)"
   ]
  },
  {
   "cell_type": "markdown",
   "metadata": {},
   "source": [
    "# Algorithms That use 2D Arrays Traversing "
   ]
  },
  {
   "cell_type": "code",
   "execution_count": 2,
   "metadata": {
    "vscode": {
     "languageId": "java"
    }
   },
   "outputs": [
    {
     "name": "stdout",
     "output_type": "stream",
     "text": [
      "Krishiv is not in the array.\n"
     ]
    }
   ],
   "source": [
    "public class SearchExample {\n",
    "    public static boolean search(String[][] chart, String name) {\n",
    "        for (int r = 0; r < chart.length; r++) {\n",
    "            for (int c = 0; c < chart[0].length; c++) {\n",
    "                if (chart[r][c].equals(name)) {\n",
    "                    return true;\n",
    "                }\n",
    "            }\n",
    "        }\n",
    "        return false; // Name not found in the array\n",
    "    }\n",
    "\n",
    "    public static void main(String[] args) {\n",
    "        String[][] chart = {\n",
    "            {\"Alice\", \"Bob\", \"Charlie\"},\n",
    "            {\"David\", \"Eve\", \"Frank\"},\n",
    "            {\"Grace\", \"Hannah\", \"Isaac\"}\n",
    "        };\n",
    "\n",
    "        String nameToSearch = \"Krishiv\";\n",
    "        boolean found = search(chart, nameToSearch);\n",
    "\n",
    "        if (found) {\n",
    "            System.out.println(nameToSearch + \" is in the array.\");\n",
    "        } else {\n",
    "            System.out.println(nameToSearch + \" is not in the array.\");\n",
    "        }\n",
    "    }\n",
    "}\n",
    "SearchExample.main(null)"
   ]
  },
  {
   "cell_type": "markdown",
   "metadata": {},
   "source": [
    "# Hacks 8.2\n",
    "- Complete the popcorn hacks \n",
    "- Main Hack:\n",
    "    - Traverse Through a 2D Array Using Any of the following methods that we learned \n",
    "    - Traverse Through A 2D Array Using Specfically The Collumn Major Order. (Make Sure your using correct type of nested loop )\n",
    "    - Create your own situration of an Algorthm that needs to traverse a 2D array and then write the code for it \n",
    "    - Extra: Create an Extra Problem or Go further in depth about something we learned (MUST HAVE CODE FOR CREDIT!)"
   ]
  },
  {
   "cell_type": "markdown",
   "metadata": {},
   "source": [
    "# Image Representation with 2D Arrays\n",
    "\n",
    "Digital images are essentially a collection of small, discrete elements called pixels. Pixels are organized in a 2D grid, where each pixel represents a single point of color or intensity. Each element (pixel) in the 2D array corresponds to one pixel in the image. In a color image, each pixel contains three color components: Red, Green, and Blue (RGB), while in grayscale images, each pixel has a single intensity value."
   ]
  },
  {
   "cell_type": "markdown",
   "metadata": {},
   "source": [
    "## Traversing and Processing an Image\n",
    "\n",
    "Traversing an image's 2D array involves systematically visiting every pixel in the image grid. This process often uses nested loops, with the outer loop iterating over the rows and the inner loop iterating over the columns. By traversing the array, you gain access to each pixel's information, such as color values or intensity. This structured access is fundamental for various image processing tasks."
   ]
  },
  {
   "cell_type": "code",
   "execution_count": 5,
   "metadata": {
    "vscode": {
     "languageId": "java"
    }
   },
   "outputs": [
    {
     "name": "stdout",
     "output_type": "stream",
     "text": [
      "Image downloaded and saved to: ../images/MORT1.png\n",
      "Success! Image Dimensions (Width x Height): 1030 x 1372\n",
      "Resolution: 39 pixels per inch (PPI)\n"
     ]
    }
   ],
   "source": [
    "import java.io.*;\n",
    "import java.net.URL;\n",
    "import javax.imageio.ImageIO; // ImageIO is a class in Java libraries which gives an easy way to use different image formats\n",
    "import java.awt.image.BufferedImage; // BufferedImage is a class in Java libraries to help perform operations on images (read + write)\n",
    "\n",
    "public class ImageProcessing {\n",
    "    public static void main(String[] args) {\n",
    "        String imageUrl = \"https://user-images.githubusercontent.com/111609656/277895130-d15b0768-01d9-4522-8ef7-4f8bcf69c42e.png\";\n",
    "        String outputFolder = \"../images\";\n",
    "        String customFileName = \"MORT1.png\"; \n",
    "\n",
    "        try {\n",
    "            String outputPath = outputFolder + File.separator + customFileName;\n",
    "\n",
    "            URL url = new URL(imageUrl); // create URL object\n",
    "\n",
    "            try (InputStream in = url.openStream();   // try-catch block where errors are handled\n",
    "                 OutputStream out = new FileOutputStream(outputPath)) {   // input stream reads data and output stream writes the data\n",
    "\n",
    "                byte[] buffer = new byte[1024];\n",
    "                int bytesRead;\n",
    "\n",
    "                while ((bytesRead = in.read(buffer)) != -1) {\n",
    "                    out.write(buffer, 0, bytesRead);\n",
    "                }   // reading the data from the URL and writes in 1024 byte chunks\n",
    "            }\n",
    "\n",
    "            System.out.println(\"Image downloaded and saved to: \" + outputPath);\n",
    "\n",
    "            File imageFile = new File(outputPath);\n",
    "            BufferedImage image = ImageIO.read(imageFile); \n",
    "            int width = image.getWidth();\n",
    "            int height = image.getHeight();   // get the image dimensions\n",
    "\n",
    "            System.out.println(\"Success! Image Dimensions (Width x Height): \" + width + \" x \" + height);\n",
    "\n",
    "            // Process the image using a 2D array\n",
    "            int[][] pixels = new int[width][height];\n",
    "\n",
    "            for (int x = 0; x < width; x++) {\n",
    "                for (int y = 0; y < height; y++) {\n",
    "                    int pixel = image.getRGB(x, y);\n",
    "                    // Process the pixel here, e.g., apply filters or transformations\n",
    "                    pixels[x][y] = pixel;\n",
    "                }\n",
    "            }\n",
    "\n",
    "            // Calculate resolution in pixels per inch (PPI)\n",
    "            int ppi = (int) (image.getWidth() / (width * 0.0254));\n",
    "            System.out.println(\"Resolution: \" + ppi + \" pixels per inch (PPI)\");\n",
    "        } catch (IOException e) {\n",
    "            e.printStackTrace();\n",
    "        }\n",
    "    }\n",
    "}\n",
    "ImageProcessing.main(null)"
   ]
  },
  {
   "cell_type": "markdown",
   "metadata": {},
   "source": [
    "## Grayscale Conversion with Images\n",
    "\n",
    "Grayscale conversion is a fundamental image processing operation. When converting an image to grayscale, you effectively remove color information and retain only the pixel intensity. This is typically done by calculating the average intensity from the RGB components of each pixel. The result is a grayscale image where variations in pixel intensity represent the image's features and details. This operation can serve as a starting point for more complex image processing techniques."
   ]
  },
  {
   "cell_type": "code",
   "execution_count": 4,
   "metadata": {
    "vscode": {
     "languageId": "java"
    }
   },
   "outputs": [
    {
     "name": "stdout",
     "output_type": "stream",
     "text": [
      "Success! Image converted to grayscale, downloaded, and saved to: ../images/MORT2_Grayscale.png\n"
     ]
    }
   ],
   "source": [
    "import java.awt.image.BufferedImage;\n",
    "import java.awt.image.ColorConvertOp;\n",
    "import java.io.*;\n",
    "import java.net.URL;\n",
    "import javax.imageio.ImageIO;\n",
    "\n",
    "public class ImageToGrayscaleWithArray {\n",
    "    public static void main(String[] args) {\n",
    "        String imageUrl = \"https://user-images.githubusercontent.com/111609656/277895164-5f93f1d8-88b5-4b08-b9a1-b54fb6d55d96.png\"; // Replace with the actual image URL\n",
    "        String outputFolder = \"../images\";\n",
    "        String customFileName = \"MORT2_Grayscale.png\"; // Change this to your desired file name for the grayscale image\n",
    "\n",
    "        try {\n",
    "            // Define the output file path\n",
    "            String outputPath = outputFolder + File.separator + customFileName;\n",
    "\n",
    "            // Create a URL object from the image URL\n",
    "            URL url = new URL(imageUrl);\n",
    "\n",
    "            // Open a connection to the URL and get the input stream\n",
    "            try (InputStream in = url.openStream();\n",
    "                 OutputStream out = new FileOutputStream(outputPath)) {\n",
    "\n",
    "                // Read data from the URL and save it to the output file\n",
    "                byte[] buffer = new byte[1024];\n",
    "                int bytesRead;\n",
    "\n",
    "                while ((bytesRead = in.read(buffer)) != -1) {\n",
    "                    out.write(buffer, 0, bytesRead);\n",
    "                }\n",
    "            }\n",
    "\n",
    "            // Read the downloaded image\n",
    "            BufferedImage originalImage = ImageIO.read(new File(outputPath));\n",
    "            int width = originalImage.getWidth();\n",
    "            int height = originalImage.getHeight();\n",
    "\n",
    "            // Create a 2D array to store grayscale values\n",
    "            int[][] grayscaleArray = new int[width][height];\n",
    "\n",
    "            // Convert the image to grayscale and populate the array\n",
    "            for (int x = 0; x < width; x++) {\n",
    "                for (int y = 0; y < height; y++) {\n",
    "                    int pixel = originalImage.getRGB(x, y);\n",
    "                    int red = (pixel >> 16) & 0xFF;\n",
    "                    int green = (pixel >> 8) & 0xFF;\n",
    "                    int blue = pixel & 0xFF;\n",
    "                    int gray = (red + green + blue) / 3;\n",
    "                    grayscaleArray[x][y] = gray;\n",
    "                }\n",
    "            }\n",
    "\n",
    "            // Save the grayscale image\n",
    "            String grayscaleOutputPath = outputFolder + File.separator + customFileName;\n",
    "            BufferedImage grayscaleImage = new BufferedImage(width, height, BufferedImage.TYPE_BYTE_GRAY);\n",
    "\n",
    "            for (int x = 0; x < width; x++) {\n",
    "                for (int y = 0; y < height; y++) {\n",
    "                    int grayValue = grayscaleArray[x][y];\n",
    "                    int grayPixel = (grayValue << 16) | (grayValue << 8) | grayValue;\n",
    "                    grayscaleImage.setRGB(x, y, grayPixel);\n",
    "                }\n",
    "            }\n",
    "\n",
    "            ImageIO.write(grayscaleImage, \"png\", new File(grayscaleOutputPath));\n",
    "\n",
    "            System.out.println(\"Success! Image converted to grayscale, downloaded, and saved to: \" + grayscaleOutputPath);\n",
    "        } catch (IOException e) {\n",
    "            e.printStackTrace();\n",
    "        }\n",
    "    }\n",
    "}\n",
    "ImageToGrayscaleWithArray.main(null)"
   ]
  },
  {
   "cell_type": "markdown",
   "metadata": {},
   "source": [
    "## Image Conversion\n",
    "\n",
    "\n",
    "<br>\n",
    "\n",
    "\n",
    "<b> Why do we Convert Images ? </b>\n",
    "\n",
    "\n",
    "\n",
    "#### How Does Image Conversion Work:"
   ]
  },
  {
   "cell_type": "code",
   "execution_count": 8,
   "metadata": {
    "vscode": {
     "languageId": "java"
    }
   },
   "outputs": [
    {
     "name": "stderr",
     "output_type": "stream",
     "text": [
      "javax.imageio.IIOException: Can't read input file!\n",
      "\tat java.desktop/javax.imageio.ImageIO.read(ImageIO.java:1308)\n",
      "\tat REPL.$JShell$16E$ImageConverter.main($JShell$16E.java:37)\n",
      "\tat REPL.$JShell$30.do_it$($JShell$30.java:21)\n",
      "\tat java.base/jdk.internal.reflect.NativeMethodAccessorImpl.invoke0(Native Method)\n",
      "\tat java.base/jdk.internal.reflect.NativeMethodAccessorImpl.invoke(NativeMethodAccessorImpl.java:62)\n",
      "\tat java.base/jdk.internal.reflect.DelegatingMethodAccessorImpl.invoke(DelegatingMethodAccessorImpl.java:43)\n",
      "\tat java.base/java.lang.reflect.Method.invoke(Method.java:566)\n",
      "\tat io.github.spencerpark.ijava.execution.IJavaExecutionControl.lambda$execute$1(IJavaExecutionControl.java:95)\n",
      "\tat java.base/java.util.concurrent.FutureTask.run(FutureTask.java:264)\n",
      "\tat java.base/java.util.concurrent.ThreadPoolExecutor.runWorker(ThreadPoolExecutor.java:1128)\n",
      "\tat java.base/java.util.concurrent.ThreadPoolExecutor$Worker.run(ThreadPoolExecutor.java:628)\n",
      "\tat java.base/java.lang.Thread.run(Thread.java:829)\n"
     ]
    }
   ],
   "source": [
    "import javax.imageio.ImageIO; // allows you to read and write images in various formats.\n",
    "import java.io.File; // allows you to work with files and directories in your file system.\n",
    "import java.io.IOException; // allows you to handle input and output exceptions that may occur during file operations.\n",
    "import java.awt.image.BufferedImage; // allows you to work with images stored in memory, providing methods to manipulate image data.\n",
    "\n",
    "public class ImageConverter {\n",
    "\n",
    "    public static void main(String[] args) {\n",
    "        try {\n",
    "            // Input and output file paths\n",
    "            String[] inputPaths = {\n",
    "                \"/Users/nikhilchakravarthula/vscode/KPNSLESSON/images/woodworker_mort.png\",\n",
    "                \"/Users/nikhilchakravarthula/vscode/KPNSLESSON/images/Mort2.png\"\n",
    "            };\n",
    "            String outputPath = \"/Users/nikhilchakravarthula/vscode/KPNSLESSON/imagesConvert\";\n",
    "\n",
    "            // Loop through each image in the array\n",
    "            for (String inputPath : inputPaths) {\n",
    "                // Read the image\n",
    "                File inputFile = new File(inputPath);\n",
    "                BufferedImage img = ImageIO.read(inputFile);  // Buffered image is a class in java for handling image data\n",
    "\n",
    "                // Write the image\n",
    "                String outputFileName = \"converted_\" + new File(inputPath).getName().replace(\".png\", \".gif\");\n",
    "                String outputFilePath = outputPath + File.separator + outputFileName;\n",
    "                File outputFile = new File(outputFilePath);\n",
    "                ImageIO.write(img, \"gif\", outputFile);\n",
    "\n",
    "                System.out.println(\"Image conversion successful for: \" + inputPath);\n",
    "            }\n",
    "        } catch (IOException e) {\n",
    "            e.printStackTrace();\n",
    "        }\n",
    "    }\n",
    "}\n",
    "ImageConverter.main(null)\n"
   ]
  },
  {
   "cell_type": "code",
   "execution_count": 7,
   "metadata": {
    "vscode": {
     "languageId": "java"
    }
   },
   "outputs": [
    {
     "name": "stderr",
     "output_type": "stream",
     "text": [
      "javax.imageio.IIOException: Can't read input file!\n",
      "\tat java.desktop/javax.imageio.ImageIO.read(ImageIO.java:1308)\n",
      "\tat REPL.$JShell$16D$ImageConverter.main($JShell$16D.java:31)\n",
      "\tat REPL.$JShell$29.do_it$($JShell$29.java:22)\n",
      "\tat java.base/jdk.internal.reflect.NativeMethodAccessorImpl.invoke0(Native Method)\n",
      "\tat java.base/jdk.internal.reflect.NativeMethodAccessorImpl.invoke(NativeMethodAccessorImpl.java:62)\n",
      "\tat java.base/jdk.internal.reflect.DelegatingMethodAccessorImpl.invoke(DelegatingMethodAccessorImpl.java:43)\n",
      "\tat java.base/java.lang.reflect.Method.invoke(Method.java:566)\n",
      "\tat io.github.spencerpark.ijava.execution.IJavaExecutionControl.lambda$execute$1(IJavaExecutionControl.java:95)\n",
      "\tat java.base/java.util.concurrent.FutureTask.run(FutureTask.java:264)\n",
      "\tat java.base/java.util.concurrent.ThreadPoolExecutor.runWorker(ThreadPoolExecutor.java:1128)\n",
      "\tat java.base/java.util.concurrent.ThreadPoolExecutor$Worker.run(ThreadPoolExecutor.java:628)\n",
      "\tat java.base/java.lang.Thread.run(Thread.java:829)\n"
     ]
    }
   ],
   "source": [
    "import javax.imageio.ImageIO;\n",
    "import java.io.File;\n",
    "import java.io.IOException;\n",
    "import java.awt.image.BufferedImage;\n",
    "\n",
    "public class ImageConverter {\n",
    "\n",
    "    public static void main(String[] args) {\n",
    "        try {\n",
    "            // Input and output file paths\n",
    "            String inputPath = \"/Users/nikhilchakravarthula/vscode/KPNSLESSON/images/Mort2.png\";\n",
    "            String outputPath = \"/Users/nikhilchakravarthula/vscode/KPNSLESSON/imagesConvert\";\n",
    "\n",
    "            // Read the PNG image\n",
    "            BufferedImage img = ImageIO.read(new File(inputPath));\n",
    "\n",
    "            // Convert image to RGB format \n",
    "            BufferedImage rgbImage = new BufferedImage(img.getWidth(), img.getHeight(), BufferedImage.TYPE_INT_RGB);\n",
    "            rgbImage.createGraphics().drawImage(img, 0, 0, null);\n",
    "\n",
    "            // Define the output file name and path\n",
    "            String outputFileName = inputPath.substring(inputPath.lastIndexOf(\"/\") + 1).replace(\".png\", \".jpeg\");\n",
    "            String outputFilePath = outputPath + File.separator + outputFileName;\n",
    "\n",
    "            // Convert and save the image as JPEG\n",
    "            ImageIO.write(rgbImage, \"jpeg\", new File(outputFilePath));\n",
    "\n",
    "            System.out.println(\"Image conversion successful!\");\n",
    "        } catch (IOException e) {\n",
    "            e.printStackTrace();\n",
    "        }\n",
    "    }\n",
    "}\n",
    "\n",
    "ImageConverter.main(null);\n"
   ]
  },
  {
   "cell_type": "markdown",
   "metadata": {},
   "source": [
    "## Scaling the Image"
   ]
  },
  {
   "cell_type": "code",
   "execution_count": 6,
   "metadata": {
    "vscode": {
     "languageId": "java"
    }
   },
   "outputs": [
    {
     "name": "stderr",
     "output_type": "stream",
     "text": [
      "javax.imageio.IIOException: Can't read input file!\n",
      "\tat java.desktop/javax.imageio.ImageIO.read(ImageIO.java:1308)\n",
      "\tat REPL.$JShell$20B$ImageScaler.main($JShell$20B.java:36)\n",
      "\tat REPL.$JShell$28.do_it$($JShell$28.java:22)\n",
      "\tat java.base/jdk.internal.reflect.NativeMethodAccessorImpl.invoke0(Native Method)\n",
      "\tat java.base/jdk.internal.reflect.NativeMethodAccessorImpl.invoke(NativeMethodAccessorImpl.java:62)\n",
      "\tat java.base/jdk.internal.reflect.DelegatingMethodAccessorImpl.invoke(DelegatingMethodAccessorImpl.java:43)\n",
      "\tat java.base/java.lang.reflect.Method.invoke(Method.java:566)\n",
      "\tat io.github.spencerpark.ijava.execution.IJavaExecutionControl.lambda$execute$1(IJavaExecutionControl.java:95)\n",
      "\tat java.base/java.util.concurrent.FutureTask.run(FutureTask.java:264)\n",
      "\tat java.base/java.util.concurrent.ThreadPoolExecutor.runWorker(ThreadPoolExecutor.java:1128)\n",
      "\tat java.base/java.util.concurrent.ThreadPoolExecutor$Worker.run(ThreadPoolExecutor.java:628)\n",
      "\tat java.base/java.lang.Thread.run(Thread.java:829)\n"
     ]
    }
   ],
   "source": [
    "import javax.imageio.ImageIO;\n",
    "import java.awt.*;\n",
    "import java.awt.image.BufferedImage;\n",
    "import java.io.File;\n",
    "import java.io.IOException;\n",
    "\n",
    "public class ImageScaler {\n",
    "\n",
    "    public static void main(String[] args) {\n",
    "        try {\n",
    "            // Input and output file paths\n",
    "            String inputPath = \"/Users/nikhilchakravarthula/vscode/KPNSLESSON/images/snow_mort.png\";\n",
    "            String outputPath = \"/Users/nikhilchakravarthula/vscode/KPNSLESSON/imagesConvert\";\n",
    "\n",
    "            // Desired width and height of the scaled image\n",
    "            int scaledWidth = 100;\n",
    "            int scaledHeight = 100;\n",
    "\n",
    "            // Read the image\n",
    "            File inputFile = new File(inputPath);\n",
    "            BufferedImage inputImage = ImageIO.read(inputFile);\n",
    "\n",
    "            // Scale the image\n",
    "            BufferedImage scaledImage = scaleImage(inputImage, scaledWidth, scaledHeight);\n",
    "\n",
    "            // Write the scaled image\n",
    "            String outputFileName = \"scaled_\" + new File(inputPath).getName();\n",
    "            String outputFilePath = outputPath + File.separator + outputFileName;\n",
    "            File outputFile = new File(outputFilePath);\n",
    "            ImageIO.write(scaledImage, \"png\", outputFile);  \n",
    "\n",
    "            System.out.println(\"Image scaling successful!\");\n",
    "        } catch (IOException e) {\n",
    "            e.printStackTrace();\n",
    "        }\n",
    "    }\n",
    "\n",
    "    public static BufferedImage scaleImage(BufferedImage originalImage, int scaledWidth, int scaledHeight) {\n",
    "        // Create a new BufferedImage with the desired width and height\n",
    "        BufferedImage scaledImage = new BufferedImage(scaledWidth, scaledHeight, originalImage.getType());\n",
    "    \n",
    "        // g2d more into\n",
    "        // Create a Graphics2D object and set the rendering hints for scaling\n",
    "        Graphics2D g2d = scaledImage.createGraphics();\n",
    "        g2d.setRenderingHint(RenderingHints.KEY_INTERPOLATION, RenderingHints.VALUE_INTERPOLATION_BILINEAR);\n",
    "    \n",
    "        // Draw the original image on the new BufferedImage with the desired width and height\n",
    "        g2d.drawImage(originalImage, 0, 0, scaledWidth, scaledHeight, null);\n",
    "    \n",
    "        // Dispose of the Graphics2D object\n",
    "        g2d.dispose();\n",
    "    \n",
    "        return scaledImage;\n",
    "    }\n",
    "}\n",
    "\n",
    "ImageScaler.main(null);\n"
   ]
  },
  {
   "cell_type": "markdown",
   "metadata": {},
   "source": [
    "## Images Hack\n",
    "\n",
    "Hack: Create a functioning code in which you convert a PNG image to a JPEG image (make it funny).\n"
   ]
  },
  {
   "cell_type": "markdown",
   "metadata": {},
   "source": [
    "# Grading for Hacks\n",
    "\n",
    "- 0.7 for Completing Lesson Hacks\n",
    "- 0.2 for Popcorn Hacks + Practice\n",
    "- 0.1 for Doing Extra Work"
   ]
  }
 ],
 "metadata": {
  "kernelspec": {
   "display_name": "Java",
   "language": "java",
   "name": "java"
  },
  "language_info": {
   "codemirror_mode": "java",
   "file_extension": ".jshell",
   "mimetype": "text/x-java-source",
   "name": "Java",
   "pygments_lexer": "java",
   "version": "11.0.20+8-post-Ubuntu-1ubuntu120.04"
  }
 },
 "nbformat": 4,
 "nbformat_minor": 2
}
