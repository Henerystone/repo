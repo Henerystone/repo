{
 "cells": [
  {
   "cell_type": "markdown",
   "metadata": {},
   "source": [
    "---\n",
    "title: 2D Arrays Lesson\n",
    "description: Lesson for Workshop on Monday, 4/22/2024\n",
    "toc: true\n",
    "layout: post\n",
    "---"
   ]
  },
  {
   "cell_type": "markdown",
   "metadata": {},
   "source": [
    "## Defining 2D Arrays\n",
    "\n",
    "A 2D array is a way of storing data similar to a table with rows and columns, created by storing multiple arrays inside of a parent array. Just like a spreadsheet, where each cell can be identified by its row and column number, elements in a 2D array can be accessed using their respective row and column indices. This organization allows for efficient storage and retrieval of data in a structured format, making it particularly useful for tasks involving tabular data or grids.\n",
    "\n",
    "For example, take a 2D array initialized like this (more on how to initialize later):\n",
    "\n",
    "```java\n",
    "int[][] arr2D = {\n",
    "    {3, 2, 7},\n",
    "    {2, 6, 8},\n",
    "    {5, 1, 9},\n",
    "}\n",
    "```\n",
    "\n",
    "Now compare this code segment to this visual:\n",
    "\n",
    "![image](https://media.geeksforgeeks.org/wp-content/uploads/20220617153858/MultidimensionalArray.jpg)\n",
    "\n",
    "> image sourced from geeksforgeeks\n",
    "\n",
    "Here you can see how the \"table\" (2D array) is being constructed of multiple 1-dimensional arrays."
   ]
  },
  {
   "cell_type": "markdown",
   "metadata": {},
   "source": [
    "## How to initialize a 2D array in Java\n",
    "\n",
    "In Java, you can initialize a 2D array using various methods, depending on your requirements and preferences. Here are some common approaches:\n",
    "\n",
    "### Using Array Initializer\n",
    "\n",
    "You can directly initialize a 2D array using an array initializer. This method is suitable when you know the values of the array elements at compile time. An important thing to note is that you can actually create 2D arrays with 1D arrays of varying lengths, adding more complexity to the 2D array that can be useful in some scenarios.\n",
    "\n",
    "```java\n",
    "int[][] array2D = {\n",
    "    {1, 2, 3},\n",
    "    {4, 5, 6},\n",
    "    {7, 8, 9}\n",
    "};\n",
    "```\n",
    "\n",
    "### Initializing with default values\n",
    "\n",
    "You can create a new 2D array with a set number of rows and columns with preset values:\n",
    "- `null` for reference types (i.e. String, char, boolean)\n",
    "- `0` for numeric types (i.e. int, double, float)\n",
    "\n",
    "```java\n",
    "int rows = 2;\n",
    "int columns = 2;\n",
    "int[][] array2D = new int[rows][columns];\n",
    "```"
   ]
  },
  {
   "cell_type": "markdown",
   "metadata": {},
   "source": [
    "## Indexing through a 2D array\n",
    "\n",
    "In this image, you can see the indices assigned to each row and column:\n",
    "\n",
    "![image](https://blogger.googleusercontent.com/img/b/R29vZ2xl/AVvXsEhgDMQLpv7QBWvE9DG0a8iFtFY0hyMnoFoDGUsfGD0U87v1Fip_w-dlBk5qL3IzI8vkOLOW7ryAQPZYIRLZxJ3n1FkZvDMswzwx_UNHnJbQPmQfzzzGSusHuw4R1iRik5zjVyxJ4B_Eq99T/w594-h509/how+to+loop+over+2D+array+in+Java.jpg)\n",
    "\n",
    "> image sourced from javarevisited\n",
    "\n",
    "Using these indices, you can get data from the 2D array by indexing twice in this format: `arr[row][column]`\n",
    "\n",
    "For example, to get `4` in the image above, you would do `arr[1][2]`, because it is in the row at index 1 and the column at index 2 (assuming the 2d array is called `arr`).\n",
    "\n",
    "Feel free to mess with the indices in the code block below to get different numbers"
   ]
  },
  {
   "cell_type": "code",
   "execution_count": 1,
   "metadata": {
    "vscode": {
     "languageId": "java"
    }
   },
   "outputs": [
    {
     "data": {
      "text/plain": [
       "4"
      ]
     },
     "execution_count": 1,
     "metadata": {},
     "output_type": "execute_result"
    }
   ],
   "source": [
    "// Initializing 2D array\n",
    "int[][] arr = {\n",
    "    {1, 1, 1},\n",
    "    {1, 2, 4},\n",
    "    {1, 3, 9},\n",
    "};\n",
    "\n",
    "// indexing to get data in format arr[row][column]\n",
    "arr[1][2];"
   ]
  },
  {
   "cell_type": "markdown",
   "metadata": {},
   "source": [
    "However, the bulk of programming with 2D arrays involves loops, such as returning an array of the sums of each row in a 2D array:"
   ]
  },
  {
   "cell_type": "code",
   "execution_count": 8,
   "metadata": {
    "vscode": {
     "languageId": "java"
    }
   },
   "outputs": [
    {
     "name": "stdout",
     "output_type": "stream",
     "text": [
      "8, 3, 12\n"
     ]
    }
   ],
   "source": [
    "public class Example {\n",
    "    // Method for calculating the sum of a 2D array using nested for loops\n",
    "    public static int[] rowSums(int[][] arr2D) {\n",
    "        // Get number of rows\n",
    "        int rows = arr2D.length;\n",
    "\n",
    "        // New array to return sums\n",
    "        int[] sums = new int[rows];\n",
    "\n",
    "        // Loop through each row\n",
    "        for (int i = 0; i < rows; i ++) {\n",
    "            // Get number of columns for the selected row (useful for uneven amounts)\n",
    "            int cols = arr2D[i].length;\n",
    "\n",
    "            // Define sum for the row;\n",
    "            int sum = 0;\n",
    "\n",
    "            // Iterate through each column within the row, effectively iterating through all points\n",
    "            for (int j = 0; j < cols; j ++) {\n",
    "                sum += arr2D[i][j];\n",
    "            }\n",
    "\n",
    "            // Add sum to array\n",
    "            sums[i] = sum;\n",
    "        }\n",
    "\n",
    "        return sums;\n",
    "    }\n",
    "\n",
    "    // method for printing arrays\n",
    "    public static void printArray(int[] arr) {\n",
    "        for (int i = 0; i < arr.length; i++) {\n",
    "            System.out.print(arr[i]);\n",
    "            if (i < arr.length - 1) {\n",
    "                System.out.print(\", \");\n",
    "            }\n",
    "        }\n",
    "        System.out.println();\n",
    "    }\n",
    "\n",
    "    public static void main(String[] args) {\n",
    "        // tester 2d array\n",
    "        int[][] arr2D = {\n",
    "            {3, 4, 1},\n",
    "            {1, 1, 1},\n",
    "            {2, 6, 4},\n",
    "        };\n",
    "\n",
    "        // calculate sums of each row\n",
    "        int[] sums = rowSums(arr2D);\n",
    "\n",
    "        // print results\n",
    "        printArray(sums);\n",
    "    }\n",
    "}\n",
    "\n",
    "Example.main(null);"
   ]
  },
  {
   "cell_type": "markdown",
   "metadata": {},
   "source": [
    "## Notes on Common Mistakes\n",
    "\n",
    "Here are some notes on common mistakes made in the context of the 2D arrays question. People around the country will *definitely* make all of these mistakes many times over, so let's hope that none of those people are people at our school.\n",
    "\n",
    "### Array Errors\n",
    "\n",
    "We just had a lesson on common Arrays errors, so rather than rephrase their work, give [these mistakes](https://men-in-brown.github.io/BrownPages/ArraysLesson#common-mistakes) another look.\n",
    "\n",
    "There are some Array errors that are especially relevant to 2D arrays problems, however. For example...\n",
    "\n",
    "- Off-By-One Errors\n",
    "\n",
    "When working with a 2D array, you are working with an array full of arrays. In this structure, there is a set number of rows and columns when the structure is initialized. The length of each row and the number of rows are *often different*, so both must be identified properly before iterating using index-based loops.\n",
    "\n",
    "Out of bounds errors will *always* lose you at least one point on the scoring guidelines, according to our research.\n",
    "\n",
    "- For-Each loop modification\n",
    "\n",
    "If values are intended to be modified during an iterative process, *do not* use a for-each loop. The elements accessed using this strategy are copies; accessing the array indexes directly to make modifications is the only way for them to be retained. See the example below:"
   ]
  },
  {
   "cell_type": "code",
   "execution_count": 3,
   "metadata": {
    "vscode": {
     "languageId": "java"
    }
   },
   "outputs": [
    {
     "name": "stdout",
     "output_type": "stream",
     "text": [
      "Prior to modification: [[1, 4, 3], [3, 8, 9]]\n",
      "After to modification: [[1, 4, 3], [3, 8, 9]]\n"
     ]
    }
   ],
   "source": [
    "import java.util.Arrays;\n",
    "\n",
    "int[][] modifyArray = {\n",
    "    {1, 4, 3},\n",
    "    {3, 8, 9}\n",
    "};\n",
    "\n",
    "System.out.println(\"Prior to modification: \" + Arrays.deepToString(modifyArray));\n",
    "\n",
    "for (int[] row : modifyArray) {\n",
    "    for (int col : row) {\n",
    "        if (col == 3) {\n",
    "            col = 0;\n",
    "        }\n",
    "    }\n",
    "}\n",
    "\n",
    "System.out.println(\"After to modification: \" + Arrays.deepToString(modifyArray));"
   ]
  },
  {
   "cell_type": "markdown",
   "metadata": {},
   "source": [
    "Instead, when modifying, you can use a traditional for loop (which also comes with the added benefit of having direct access to the relevant indexes):"
   ]
  },
  {
   "cell_type": "code",
   "execution_count": 4,
   "metadata": {
    "vscode": {
     "languageId": "java"
    }
   },
   "outputs": [
    {
     "name": "stdout",
     "output_type": "stream",
     "text": [
      "Prior to modification: [[1, 4, 3], [3, 8, 9]]\n",
      "After to modification: [[1, 4, 0], [0, 8, 9]]\n"
     ]
    }
   ],
   "source": [
    "import java.util.Arrays;\n",
    "\n",
    "int[][] actualModifyArray = {\n",
    "    {1, 4, 3},\n",
    "    {3, 8, 9}\n",
    "};\n",
    "\n",
    "System.out.println(\"Prior to modification: \" + Arrays.deepToString(actualModifyArray));\n",
    "\n",
    "for (int r = 0; r < actualModifyArray.length; r++) {\n",
    "    for (int c = 0; c < actualModifyArray[r].length; c++) {\n",
    "        if (actualModifyArray[r][c] == 3) {\n",
    "            actualModifyArray[r][c] = 0;\n",
    "        }\n",
    "    }\n",
    "}\n",
    "\n",
    "System.out.println(\"After to modification: \" + Arrays.deepToString(actualModifyArray));"
   ]
  },
  {
   "cell_type": "markdown",
   "metadata": {},
   "source": [
    "\n",
    "### FRQ Scoring Guidelines Mistakes\n",
    "\n",
    "To succeed on the AP test, it's important to be able to identify which elements of a correct answer earn points.\n",
    "\n",
    "- Most often, if you create a method in a previous part used to interact with a 2D array, *it is intended that you use that method again in future methods*.\n",
    "\n",
    "Means of traversing and interacting with 2D arrays are relatively specific in the context of one College Board problem (i.e., iterate through to determine a condition about a row, find a value in a row, search columns by condition, etc.), so make sure to analyze the context to determine if a certain method may be used again to abstract what would otherwise be a more complex task in a future method. With practice, this connection should be obvious.\n",
    "\n",
    "If there is no possible relevance between two methods, this may not necessarily be the case.\n",
    "\n",
    "Make sure that you use the proper parameters when calling your own method! Scoring guidelines are sometimes lenient about this, but don’t tempt fate. Just format your call properly.\n",
    "\n",
    "- If a “helper” method is provided to you in a question, *make sure to note it and use it*.\n",
    "\n",
    "If one is provided, it is most certainly present to make the process of writing the code less complex. Scoring guidelines will always include utilizing past student-created methods and “helper” methods.\n",
    "\n",
    "You can also use the helper method’s functionality to aid your thinking about a question. If you are confused by its content and aren’t sure how to tackle the problem instinctively, you can be sure that a provided “helper” method will be a part of the solution.\n",
    "\n",
    "Once again, make sure that you’re using the proper parameters!\n",
    "\n",
    "- Know how to use column-major order. (Many go into the test having only used row-major order.)\n",
    "\n",
    "It's very possible that a question will prompt you to access a 2D array by its columns. (We found two in research for this lesson.) If you know you haven't practiced column-major order, give the code below a look. It might be a good idea to create your own code cell with a unique 2D array to practice with."
   ]
  },
  {
   "cell_type": "code",
   "execution_count": 8,
   "metadata": {
    "vscode": {
     "languageId": "java"
    }
   },
   "outputs": [
    {
     "name": "stdout",
     "output_type": "stream",
     "text": [
      "Column 1:\t3\t9\t\n",
      "Column 2:\t5\t9\t\n",
      "Column 3:\t1\t7\t\n"
     ]
    }
   ],
   "source": [
    "int[][] array = {\n",
    "    {3, 5, 1},\n",
    "    {9, 9, 7}\n",
    "};\n",
    "\n",
    "// you should always be able to use array[0].length for the number of columns\n",
    "// since each row is the same length\n",
    "int colNum = 1;\n",
    "for (int col = 0; col < array[0].length; col++) {\n",
    "    System.out.print(\"Column \" + colNum + \":\\t\");\n",
    "    for (int row = 0; row < array.length; row++) {\n",
    "        System.out.print(array[row][col] + \"\\t\");\n",
    "    }\n",
    "    System.out.println();\n",
    "    colNum++;\n",
    "}"
   ]
  },
  {
   "cell_type": "markdown",
   "metadata": {},
   "source": [
    "## 2021 2D Arrays FRQ\n",
    "\n",
    "This question involves manipulating a 2D array of integers. You will write two `static` methods, both of which are in a class named `ArrayResizer`. <mark>Complete parts (a) and (b) for full credit</mark>.\n",
    "\n",
    "### Part A\n",
    "\n",
    "(a) Write the method `isNonZeroRow`, which returns true if and only if all elements in row r of a two-dimensional array array2D are not equal to zero. For example, consider the following statement, which initializes a two-dimensional array."
   ]
  },
  {
   "cell_type": "code",
   "execution_count": null,
   "metadata": {
    "vscode": {
     "languageId": "java"
    }
   },
   "outputs": [],
   "source": [
    "int[][] arr = {\n",
    "    {2, 1, 0},\n",
    "    {1, 3, 2},\n",
    "    {0, 0, 0},\n",
    "    {4, 5, 6}\n",
    "};"
   ]
  },
  {
   "cell_type": "markdown",
   "metadata": {},
   "source": [
    "Complete the `isNonZeroRow` method."
   ]
  },
  {
   "cell_type": "code",
   "execution_count": null,
   "metadata": {
    "vscode": {
     "languageId": "java"
    }
   },
   "outputs": [],
   "source": [
    "public class ArrayResizer {\n",
    "    public static boolean isNonZeroRow(int[][] array2D, int r) {\n",
    "        for (int col : array2D[r]) {\n",
    "            if (col == 0) {\n",
    "                return false;\n",
    "            }\n",
    "        }\n",
    "        return true;\n",
    "    }\n",
    "\n",
    "    // Other methods can go here\n",
    "}\n"
   ]
  },
  {
   "cell_type": "markdown",
   "metadata": {},
   "source": [
    "### Part B\n",
    "\n",
    "(b) Write the method `resize`, which returns a new two-dimensional array containing only rows from `array2D` with all non-zero values. The elements in the new array should appear in the same order as the order in which they appeared in the original array. The following code segment initializes a two-dimensional array and calls the resize method."
   ]
  },
  {
   "cell_type": "code",
   "execution_count": null,
   "metadata": {
    "vscode": {
     "languageId": "java"
    }
   },
   "outputs": [],
   "source": [
    "int[][] arr = {\n",
    "    {2, 1, 0},\n",
    "    {1, 3, 2},\n",
    "    {0, 0, 0},\n",
    "    {4, 5, 6}\n",
    "};\n",
    "int[][] smaller = ArrayResizer.resize(arr);\n",
    "import java.util.ArrayList;\n",
    "\n",
    "public class ArrayResizer {\n",
    "    public static int[][] resize(int[][] array2D) {\n",
    "        // Create an ArrayList to store non-zero rows\n",
    "        ArrayList<int[]> nonZeroRows = new ArrayList<>();\n",
    "\n",
    "        // Iterate through each row in the array\n",
    "        for (int[] row : array2D) {\n",
    "            // Check if the row has all non-zero values\n",
    "            boolean isNonZero = true;\n",
    "            for (int col : row) {\n",
    "                if (col == 0) {\n",
    "                    isNonZero = false;\n",
    "                    break;\n",
    "                }\n",
    "            }\n",
    "            // If the row has all non-zero values, add it to the ArrayList\n",
    "            if (isNonZero) {\n",
    "                nonZeroRows.add(row);\n",
    "            }\n",
    "        }\n",
    "\n",
    "        // Convert the ArrayList to a 2D array\n",
    "        int[][] resizedArray = new int[nonZeroRows.size()][];\n",
    "        for (int i = 0; i < nonZeroRows.size(); i++) {\n",
    "            resizedArray[i] = nonZeroRows.get(i);\n",
    "        }\n",
    "\n",
    "        return resizedArray;\n",
    "    }\n",
    "\n",
    "    // Other methods can go here\n",
    "}\n"
   ]
  },
  {
   "cell_type": "markdown",
   "metadata": {},
   "source": [
    "When the code segment completes, the following will be the contents of smaller."
   ]
  },
  {
   "cell_type": "code",
   "execution_count": null,
   "metadata": {
    "vscode": {
     "languageId": "java"
    }
   },
   "outputs": [],
   "source": [
    "{{1, 3, 2}, {4, 5, 6}}"
   ]
  },
  {
   "cell_type": "markdown",
   "metadata": {},
   "source": [
    "A helper method, `numNonZeroRows`, has been provided for you. The method returns the number of rows in its two-dimensional array parameter that contain no zero values.\n",
    "\n",
    "Complete the `resize` method. Assume that `isNonZeroRow` works as specified, regardless of what you wrote in part (a). You must use `numNonZeroRows` and `isNonZeroRow` appropriately to receive full credit.\n",
    "\n",
    "(Note: This College Board question asks you explicitly to use the methods for credit, but it won't always mention it even if they expect you to make use of previous methods.)"
   ]
  },
  {
   "cell_type": "code",
   "execution_count": null,
   "metadata": {
    "vscode": {
     "languageId": "java"
    }
   },
   "outputs": [],
   "source": [
    "import java.util.ArrayList;\n",
    "\n",
    "public class ArrayResizer {\n",
    "    public static int[][] resize(int[][] array2D) {\n",
    "        int numRows = numNonZeroRows(array2D); // Get the number of rows with all non-zero values\n",
    "\n",
    "        // Create a new 2D array to store non-zero rows\n",
    "        int[][] resizedArray = new int[numRows][];\n",
    "\n",
    "        // Counter to keep track of the index in the resized array\n",
    "        int index = 0;\n",
    "\n",
    "        // Iterate through each row in the original array\n",
    "        for (int i = 0; i < array2D.length; i++) {\n",
    "            // Check if the current row has all non-zero values\n",
    "            if (isNonZeroRow(array2D, i)) {\n",
    "                // If yes, copy the row to the resized array\n",
    "                resizedArray[index] = array2D[i];\n",
    "                index++; // Move to the next index in the resized array\n",
    "            }\n",
    "        }\n",
    "\n",
    "        return resizedArray;\n",
    "    }\n",
    "\n",
    "    // Helper method to count the number of rows with all non-zero values\n",
    "    private static int numNonZeroRows(int[][] array2D) {\n",
    "        int count = 0;\n",
    "        // Iterate through each row in the array\n",
    "        for (int[] row : array2D) {\n",
    "            // Check if the row has all non-zero values\n",
    "            if (isNonZeroRow(row)) {\n",
    "                count++;\n",
    "            }\n",
    "        }\n",
    "        return count;\n",
    "    }\n",
    "\n",
    "    // Helper method to check if a row has all non-zero values\n",
    "    private static boolean isNonZeroRow(int[] row) {\n",
    "        for (int col : row) {\n",
    "            if (col == 0) {\n",
    "                return false;\n",
    "            }\n",
    "        }\n",
    "        return true;\n",
    "    }\n",
    "}\n"
   ]
  },
  {
   "cell_type": "markdown",
   "metadata": {},
   "source": [
    "### Ideas for Extra Credit\n",
    "\n",
    "- Finish the entire class `ArrayResizer`, including coding the \"helper\" method `numNonZeroRows` and a tester method that shows functionality.\n",
    "- Reflect on the common mistakes provided in this lesson, along with examples related to the provided FRQ."
   ]
  }
 ],
 "metadata": {
  "kernelspec": {
   "display_name": "Java",
   "language": "java",
   "name": "java"
  },
  "language_info": {
   "codemirror_mode": "java",
   "file_extension": ".jshell",
   "mimetype": "text/x-java-source",
   "name": "Java",
   "pygments_lexer": "java",
   "version": "11.0.20.1+0"
  }
 },
 "nbformat": 4,
 "nbformat_minor": 2
}
