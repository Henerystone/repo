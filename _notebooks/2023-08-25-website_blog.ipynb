{
 "cells": [
  {
   "cell_type": "markdown",
   "metadata": {},
   "source": [
    "# First Website Blog\n",
    "- toc: true\n",
    "- comments: true\n",
    "- permalink: /web_blog1\n",
    "- categories: [blog]"
   ]
  },
  {
   "cell_type": "markdown",
   "metadata": {},
   "source": [
    "# Site modification\n",
    "> To start, this site was forked from the student website of Mr. Mortensen. I then deleted several files stored on the site and replaced them with my own, modifying the style of the blog and the layout.\n",
    "\n",
    "> To run the site, I ran a few commands provided in the original blog to install a few Jekyll and Gem components and then ran a make server command to get the website running.\n",
    "\n",
    "> To modify, I added an About me page and removed the csse and csp pages. I also renamed the blog tab to Shreyas Sarurkar's Blog"
   ]
  }
 ],
 "metadata": {
  "language_info": {
   "name": "python"
  },
  "orig_nbformat": 4
 },
 "nbformat": 4,
 "nbformat_minor": 2
}
