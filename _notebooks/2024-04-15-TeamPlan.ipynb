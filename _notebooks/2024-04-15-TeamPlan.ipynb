{
 "cells": [
  {
   "cell_type": "markdown",
   "metadata": {},
   "source": [
    "---\n",
    "toc: true\n",
    "comments: true\n",
    "layout: notebook\n",
    "title: Java Frq 4\n",
    "courses: { csp: {week: 19} }\n",
    "type: hacks\n",
    "---"
   ]
  },
  {
   "cell_type": "markdown",
   "metadata": {},
   "source": [
    "# Notes on improvement\n",
    "- Communicate Clearly: Ensure that your instructions or suggestions are clear and concise. Sometimes, misunderstandings occur due to unclear communication.\n",
    "\n",
    "- Active Listening: Before assuming they aren't listening, make sure you're actively listening to them. Understanding their perspective can help bridge communication gaps.\n",
    "\n",
    "- Build Rapport: Establishing a good rapport with your teammates can make them more receptive to your ideas. Take time to get to know them personally and build trust.\n",
    "\n",
    "- Address Privately: If you notice a specific teammate consistently not listening, approach them privately to discuss your concerns. Be respectful and avoid accusing them.\n",
    "\n",
    "- Seek Feedback: Ask your teammates for feedback on your communication style. They might have suggestions for how you can better engage them.\n",
    "\n",
    "- Use Different Communication Styles: People have different preferences for how they receive information. Try varying your communication style to see what resonates best with your teammates.\n",
    "\n",
    "- Set Expectations: Establish clear expectations for communication within the team. This could include guidelines for active listening and respectful communication.\n",
    "\n",
    "- Lead by Example: Demonstrate active listening and respectful communication in your interactions with others. Your teammates may follow your lead.\n",
    "\n",
    "- Find Common Ground: Emphasize shared goals and objectives to foster a sense of unity within the team. When everyone is working towards a common purpose, they may be more inclined to listen to one another.\n",
    "\n",
    "- Involve a Mediator: If communication breakdowns persist, consider involving a neutral third party, such as a team leader or mediator, to facilitate constructive dialogue.\n",
    "\n",
    "\n",
    "- Out of these, we did include mediators, asked the teammates privately and our leaders tried to lead by example. However, we could have been better at coordinating our team's focus if we had a more approachable team leader and a much more stable communication level. The fact that most of the team was scattered through class periods did not help the situation."
   ]
  }
 ],
 "metadata": {
  "language_info": {
   "name": "python"
  }
 },
 "nbformat": 4,
 "nbformat_minor": 2
}
