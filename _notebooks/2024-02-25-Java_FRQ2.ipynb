{
 "cells": [
  {
   "cell_type": "markdown",
   "metadata": {},
   "source": [
    "---\n",
    "toc: true\n",
    "comments: true\n",
    "layout: notebook\n",
    "title: Java Frq 3\n",
    "courses: { csp: {week: 19} }\n",
    "type: hacks\n",
    "---"
   ]
  },
  {
   "cell_type": "code",
   "execution_count": null,
   "metadata": {},
   "outputs": [],
   "source": [
    "public int getValueAt(int row, int col) {\n",
    "    for (SparseArrayEntry entry : entries) {\n",
    "        if (entry.getRow() == row && entry.getCol() == col) {\n",
    "            return entry.getValue();\n",
    "        }\n",
    "    }\n",
    "    return 0; \n",
    "}\n"
   ]
  },
  {
   "cell_type": "code",
   "execution_count": null,
   "metadata": {},
   "outputs": [],
   "source": [
    "public void removeColumn(int col) {\n",
    "    Iterator<SparseArrayEntry> iterator = entries.iterator();\n",
    "    while (iterator.hasNext()) {\n",
    "        SparseArrayEntry entry = iterator.next();\n",
    "        if (entry.getCol() == col) {\n",
    "            iterator.remove();\n",
    "        } else if (entry.getCol() > col) {\n",
    "            entry.decrementCol(); \n",
    "        }\n",
    "    }\n",
    "    numCols--; \n",
    "}\n"
   ]
  }
 ],
 "metadata": {
  "language_info": {
   "name": "python"
  }
 },
 "nbformat": 4,
 "nbformat_minor": 2
}
