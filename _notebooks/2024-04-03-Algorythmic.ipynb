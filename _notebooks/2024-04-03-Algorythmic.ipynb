{
 "cells": [
  {
   "cell_type": "markdown",
   "metadata": {},
   "source": [
    "---\n",
    "toc: true\n",
    "comments: true\n",
    "layout: notebook\n",
    "title: Java Frq 4\n",
    "courses: { csp: {week: 19} }\n",
    "type: hacks\n",
    "---"
   ]
  },
  {
   "cell_type": "markdown",
   "metadata": {},
   "source": [
    "# QSort"
   ]
  },
  {
   "cell_type": "code",
   "execution_count": 6,
   "metadata": {},
   "outputs": [],
   "source": [
    "public class Sort {\n",
    "    public static void quickSort(int[] arr, int low, int high) {\n",
    "        if (low < high) {\n",
    "            int pi = partition(arr, low, high);\n",
    "            quickSort(arr, low, pi - 1);\n",
    "            quickSort(arr, pi + 1, high);\n",
    "        }\n",
    "    }\n",
    "\n",
    "    public static int partition(int[] arr, int low, int high) {\n",
    "        int pivot = arr[high];\n",
    "        int i = low - 1;\n",
    "        for (int j = low; j < high; j++) {\n",
    "            if (arr[j] < pivot) {\n",
    "                i++;\n",
    "                int temp = arr[i];\n",
    "                arr[i] = arr[j];\n",
    "                arr[j] = temp;\n",
    "            }\n",
    "        }\n",
    "        int temp = arr[i + 1];\n",
    "        arr[i + 1] = arr[high];\n",
    "        arr[high] = temp;\n",
    "        return i + 1;\n",
    "    }\n",
    "\n",
    "    public static void main(String[] args) {\n",
    "        int[] arr = {3, 6, 8, 10, 1, 2, 1};\n",
    "        quickSort(arr, 0, arr.length - 1);\n",
    "        System.out.print(\"Quick Sort: \");\n",
    "        for (int num : arr) {\n",
    "            System.out.print(num + \" \");\n",
    "        }\n",
    "    }\n",
    "}\n"
   ]
  },
  {
   "cell_type": "markdown",
   "metadata": {},
   "source": [
    "- This code defines a class `QuickSort` with a method `quickSort` to sort an integer array using the Quick Sort algorithm. The `quickSort` method partitions the array based on a pivot element and recursively sorts the subarrays on the left and right of the pivot until the entire array is sorted. The `partition` method is responsible for selecting a pivot, rearranging the elements such that elements less than the pivot are on the left and elements greater than the pivot are on the right, and returning the partition index. Finally, the `main` method initializes an array, sorts it using `quickSort`, and prints the sorted array."
   ]
  },
  {
   "cell_type": "markdown",
   "metadata": {},
   "source": [
    "# SSort"
   ]
  },
  {
   "cell_type": "code",
   "execution_count": 7,
   "metadata": {},
   "outputs": [],
   "source": [
    "public class SelectionSort {\n",
    "    public static void selectionSort(int[] arr) {\n",
    "        int n = arr.length;\n",
    "        for (int i = 0; i < n - 1; i++) {\n",
    "            int minIndex = i;\n",
    "            for (int j = i + 1; j < n; j++) {\n",
    "                if (arr[j] < arr[minIndex]) {\n",
    "                    minIndex = j;\n",
    "                }\n",
    "            }\n",
    "            int temp = arr[minIndex];\n",
    "            arr[minIndex] = arr[i];\n",
    "            arr[i] = temp;\n",
    "        }\n",
    "    }\n",
    "\n",
    "    public static void main(String[] args) {\n",
    "        int[] arr = {3, 6, 8, 10, 1, 2, 1};\n",
    "        selectionSort(arr);\n",
    "        System.out.print(\"Selection Sort: \");\n",
    "        for (int num : arr) {\n",
    "            System.out.print(num + \" \");\n",
    "        }\n",
    "    }\n",
    "}\n"
   ]
  },
  {
   "cell_type": "markdown",
   "metadata": {},
   "source": [
    "- This Java code implements the Selection Sort algorithm. It iterates over the array, finding the minimum element in each iteration and swapping it with the element at the beginning of the unsorted portion of the array. This process continues until the entire array is sorted. Finally, it prints the sorted array.\n"
   ]
  },
  {
   "cell_type": "markdown",
   "metadata": {},
   "source": [
    "# BSort"
   ]
  },
  {
   "cell_type": "code",
   "execution_count": 8,
   "metadata": {},
   "outputs": [],
   "source": [
    "public class BubbleSort {\n",
    "    public static void bubbleSort(int[] arr) {\n",
    "        int n = arr.length;\n",
    "        for (int i = 0; i < n - 1; i++) {\n",
    "            for (int j = 0; j < n - i - 1; j++) {\n",
    "                if (arr[j] > arr[j + 1]) {\n",
    "                    int temp = arr[j];\n",
    "                    arr[j] = arr[j + 1];\n",
    "                    arr[j + 1] = temp;\n",
    "                }\n",
    "            }\n",
    "        }\n",
    "    }\n",
    "\n",
    "    public static void main(String[] args) {\n",
    "        int[] arr = {3, 6, 8, 10, 1, 2, 1};\n",
    "        bubbleSort(arr);\n",
    "        System.out.print(\"Bubble Sort: \");\n",
    "        for (int num : arr) {\n",
    "            System.out.print(num + \" \");\n",
    "        }\n",
    "    }\n",
    "}\n"
   ]
  },
  {
   "cell_type": "markdown",
   "metadata": {},
   "source": [
    "- This Java code defines a class BubbleSort that implements the Bubble Sort algorithm. The bubbleSort method sorts an integer array by repeatedly iterating over the array and swapping adjacent elements if they are in the wrong order. This process is repeated until the entire array is sorted. Finally, the main method initializes an array, sorts it using bubbleSort, and prints the sorted array."
   ]
  },
  {
   "cell_type": "markdown",
   "metadata": {},
   "source": [
    "# MSort"
   ]
  },
  {
   "cell_type": "code",
   "execution_count": 9,
   "metadata": {},
   "outputs": [],
   "source": [
    "public class MergeSort {\n",
    "    public static void mergeSort(int[] arr, int l, int r) {\n",
    "        if (l < r) {\n",
    "            int m = (l + r) / 2;\n",
    "            mergeSort(arr, l, m);\n",
    "            mergeSort(arr, m + 1, r);\n",
    "            merge(arr, l, m, r);\n",
    "        }\n",
    "    }\n",
    "\n",
    "    public static void merge(int[] arr, int l, int m, int r) {\n",
    "        int n1 = m - l + 1;\n",
    "        int n2 = r - m;\n",
    "\n",
    "        int[] L = new int[n1];\n",
    "        int[] R = new int[n2];\n",
    "\n",
    "        for (int i = 0; i < n1; ++i)\n",
    "            L[i] = arr[l + i];\n",
    "        for (int j = 0; j < n2; ++j)\n",
    "            R[j] = arr[m + 1 + j];\n",
    "\n",
    "        int i = 0, j = 0;\n",
    "        int k = l;\n",
    "        while (i < n1 && j < n2) {\n",
    "            if (L[i] <= R[j]) {\n",
    "                arr[k] = L[i];\n",
    "                i++;\n",
    "            } else {\n",
    "                arr[k] = R[j];\n",
    "                j++;\n",
    "            }\n",
    "            k++;\n",
    "        }\n",
    "\n",
    "        while (i < n1) {\n",
    "            arr[k] = L[i];\n",
    "            i++;\n",
    "            k++;\n",
    "        }\n",
    "\n",
    "        while (j < n2) {\n",
    "            arr[k] = R[j];\n",
    "            j++;\n",
    "            k++;\n",
    "        }\n",
    "    }\n",
    "\n",
    "    public static void main(String[] args) {\n",
    "        int[] arr = {3, 6, 8, 10, 1, 2, 1};\n",
    "        mergeSort(arr, 0, arr.length - 1);\n",
    "        System.out.print(\"Merge Sort: \");\n",
    "        for (int num : arr) {\n",
    "            System.out.print(num + \" \");\n",
    "        }\n",
    "    }\n",
    "}\n"
   ]
  },
  {
   "cell_type": "markdown",
   "metadata": {},
   "source": [
    "This Java code defines a class `MergeSort` that implements the Merge Sort algorithm. The `mergeSort` method recursively divides the array into smaller subarrays until each subarray has only one element. Then, it merges these subarrays in sorted order using the `merge` method. Finally, the `main` method initializes an array, sorts it using `mergeSort`, and prints the sorted array."
   ]
  },
  {
   "cell_type": "markdown",
   "metadata": {},
   "source": [
    "# ISort"
   ]
  },
  {
   "cell_type": "code",
   "execution_count": 10,
   "metadata": {},
   "outputs": [],
   "source": [
    "public class InsertionSort {\n",
    "\n",
    "    public static void insertionSort(int[] arr) {\n",
    "        int n = arr.length;\n",
    "        for (int i = 1; i < n; ++i) {\n",
    "            int key = arr[i];\n",
    "            int j = i - 1;\n",
    "            while (j >= 0 && arr[j] > key) {\n",
    "                arr[j + 1] = arr[j];\n",
    "                j = j - 1;\n",
    "            }\n",
    "            arr[j + 1] = key;\n",
    "        }\n",
    "    }\n",
    "\n",
    "    public static void main(String[] args) {\n",
    "        int[] arr = {3, 6, 8, 10, 1, 2, 1};\n",
    "        insertionSort(arr);\n",
    "        System.out.print(\"Insertion Sort: \");\n",
    "        for (int num : arr) {\n",
    "            System.out.print(num + \" \");\n",
    "        }\n",
    "    }\n",
    "}\n"
   ]
  },
  {
   "cell_type": "markdown",
   "metadata": {},
   "source": [
    "This Java code defines a class `InsertionSort` that implements the Insertion Sort algorithm. The `insertionSort` method sorts an integer array by iteratively inserting each element into its correct position within the sorted part of the array. It does this by comparing each element with the elements to its left and shifting elements to the right until the correct position for the element is found. Finally, the `main` method initializes an array, sorts it using `insertionSort`, and prints the sorted array."
   ]
  }
 ],
 "metadata": {
  "kernelspec": {
   "display_name": "Java",
   "language": "java",
   "name": "java"
  },
  "language_info": {
   "codemirror_mode": "java",
   "file_extension": ".jshell",
   "mimetype": "text/x-java-source",
   "name": "java",
   "pygments_lexer": "java",
   "version": "11.0.22+7-post-Ubuntu-0ubuntu222.04.1"
  }
 },
 "nbformat": 4,
 "nbformat_minor": 2
}
