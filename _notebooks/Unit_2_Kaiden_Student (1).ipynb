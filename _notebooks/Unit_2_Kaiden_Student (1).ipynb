{
 "cells": [
  {
   "cell_type": "markdown",
   "metadata": {},
   "source": [
    "### 2.6 String Objects: Concatenation, Literals, and More\n",
    "\n",
    "Guess what's crazy? String literals are not actually primitives, they are considered objects! String literals are part of the aptly named String class included in Java and have a set of methods that come along with it. We'll see what we can do with the String class in the next topic!\n",
    "\n",
    "There are two ways to make strings: using a preinitialized string or by using a constructor. "
   ]
  },
  {
   "cell_type": "code",
   "execution_count": 6,
   "metadata": {
    "vscode": {
     "languageId": "java"
    }
   },
   "outputs": [
    {
     "name": "stdout",
     "output_type": "stream",
     "text": [
      "Hello World!\n"
     ]
    },
    {
     "name": "stdout",
     "output_type": "stream",
     "text": [
      "Hello World!\n"
     ]
    }
   ],
   "source": [
    "String preInt = \"Hello World!\"; // How we usually initialize strings\n",
    "System.out.println(preInt);\n",
    "\n",
    "// Using a constructor:\n",
    "String newString = new String(\"Hello World!\");\n",
    "System.out.println(newString);"
   ]
  },
  {
   "cell_type": "markdown",
   "metadata": {},
   "source": [
    "#### Escape Characters\n",
    "Sometimes, you want to put a quote in a string. However, you quickly find out that the opening quotation in the quote marks the \"end\" of the string and you can't type out your quote unless you want the program to crash. What can you do?"
   ]
  },
  {
   "cell_type": "markdown",
   "metadata": {},
   "source": [
    "![Alt text](https://media.discordapp.net/attachments/1010780182476496908/1159224994707021945/image.png?ex=65303f68&is=651dca68&hm=d8ba25c57cc1d41eb20fd2f3621f2ae0472efb874dba76d7078415c0d0b34613&=&width=2268&height=622)"
   ]
  },
  {
   "cell_type": "markdown",
   "metadata": {},
   "source": [
    "Challenge: Display the background of the quote while displaying the quote in one line: \"Give me liberty or give me death!\" - Patrick Henry."
   ]
  },
  {
   "cell_type": "code",
   "execution_count": null,
   "metadata": {
    "vscode": {
     "languageId": "java"
    }
   },
   "outputs": [],
   "source": [
    "System.out.println(\"This is a famous quote written by Patrick Henry in the Virginia Convention: \\n\\\"Give me liberty or give me death!\\\"\")\n"
   ]
  },
  {
   "cell_type": "markdown",
   "metadata": {},
   "source": [
    "#### String Concatenation\n",
    "\n",
    "When we combine two strings together, we call that string concatenation. We use the '+' operator to concatenate two strings. "
   ]
  },
  {
   "cell_type": "code",
   "execution_count": 8,
   "metadata": {
    "vscode": {
     "languageId": "java"
    }
   },
   "outputs": [
    {
     "name": "stdout",
     "output_type": "stream",
     "text": [
      "I amhungry\n"
     ]
    }
   ],
   "source": [
    "System.out.println(\"I am\" + \"hungry\");"
   ]
  },
  {
   "cell_type": "markdown",
   "metadata": {},
   "source": [
    "Notice how there is no space between am and hungry. This is because the java '+' operator does not add a space, but instead, joins the strings together without adding anything in between. To fix this, we add a space in between."
   ]
  },
  {
   "cell_type": "code",
   "execution_count": 9,
   "metadata": {
    "vscode": {
     "languageId": "java"
    }
   },
   "outputs": [
    {
     "name": "stdout",
     "output_type": "stream",
     "text": [
      "I am hungry\n"
     ]
    }
   ],
   "source": [
    "System.out.println(\"I am\" + \" \" + \"hungry\");"
   ]
  },
  {
   "cell_type": "markdown",
   "metadata": {},
   "source": [
    "However, when we want to use variables with our strings, we can also use the '+=' operator to concatenate our strings. The '+' operator still works, however."
   ]
  },
  {
   "cell_type": "code",
   "execution_count": 19,
   "metadata": {
    "vscode": {
     "languageId": "java"
    }
   },
   "outputs": [
    {
     "name": "stdout",
     "output_type": "stream",
     "text": [
      "Hello World\n",
      "Hello World\n"
     ]
    }
   ],
   "source": [
    "String a1 = \"Hello \";\n",
    "String a2 = \"World\";\n",
    "System.out.println(a1 + a2);\n",
    "System.out.println(a1 += a2);"
   ]
  },
  {
   "cell_type": "markdown",
   "metadata": {},
   "source": [
    "Can you guess what happens when we try to change a string object?"
   ]
  },
  {
   "cell_type": "code",
   "execution_count": 13,
   "metadata": {
    "vscode": {
     "languageId": "java"
    }
   },
   "outputs": [
    {
     "name": "stdout",
     "output_type": "stream",
     "text": [
      "s1 refers to Java\n",
      "s2 refers to Hello\n",
      "s3 refers to Hello\n",
      "newS3 refers to Hello Scaler\n"
     ]
    }
   ],
   "source": [
    "String s1 = \"Hello\"; // String literal\n",
    "String s2 = \"Hello\"; // String literal\n",
    "String s3 = s1; // same reference\n",
    "\n",
    "//Changing the value of s1\n",
    "s1 = \"Java\";\n",
    "\n",
    "//Updating with concat() operation\n",
    "s2.concat(\" World\");\n",
    "\n",
    "//The concatenated String will be created as a new instance and an object should refer to that instance to get the concatenated value.\n",
    "String newS3 = s3.concat(\" Scaler\");\n",
    "\n",
    "System.out.println(\"s1 refers to \" + s1);\n",
    "System.out.println(\"s2 refers to \" + s2);\n",
    "System.out.println(\"s3 refers to \" + s3);\n",
    "System.out.println(\"newS3 refers to \" + newS3);"
   ]
  },
  {
   "cell_type": "markdown",
   "metadata": {},
   "source": [
    "The strings are immutable! This is because immutable strings allows Java to be safe in multithread applications (no changes that were not supposed to happen at that time in the program), and it makes the string object very efficient, as the strings are stored in a \"string pool\" that Java uses, which allows strings to only be created once but used over and over again if the same string object is created multiple times."
   ]
  },
  {
   "cell_type": "markdown",
   "metadata": {},
   "source": [
    "One last cool thing about strings is that primitive types change to string objects when concatenated. You have been doing this all the time, but here is the proof!"
   ]
  },
  {
   "cell_type": "code",
   "execution_count": 21,
   "metadata": {
    "vscode": {
     "languageId": "java"
    }
   },
   "outputs": [
    {
     "name": "stdout",
     "output_type": "stream",
     "text": [
      "Here is the key: 0.5\n"
     ]
    }
   ],
   "source": [
    "String message = \"Here is the key: \";\n",
    "double key = 0.5;\n",
    "\n",
    "System.out.println(message + key)"
   ]
  },
  {
   "cell_type": "markdown",
   "metadata": {},
   "source": [
    "### 2.7 String Methods\n",
    "\n",
    "#### Intro to External Libraries and APIs\n",
    "There is a lot you can do with the factory version of Java, however, just like Python and many other languages, there are many new things you can do with the Java external libraries and APIs (application program interfaces). \n",
    "All Java classes, libraries, and APIs come with documentation, which lists the methods of the class and also how to use the class and its methods. Here is the official Java documentation for the String class:\n",
    "\n",
    "[Java Docs](https://docs.oracle.com/en/java/javase/11/docs/api/java.base/java/lang/String.html)\n",
    "\n",
    "Courtesy of Java."
   ]
  },
  {
   "cell_type": "markdown",
   "metadata": {},
   "source": [
    "#### About the String Class\n",
    "__The String class is a class in the java.lang package that comes when you install Java on your computer.__\n",
    "### Accessing Substrings\n",
    "With strings, we can access substrings and characters in the string. A substring is a string that is included within a larger string, and a character is a substring with a length of 1. First, we need to figure out the length of a string, which is the number of characters in the string. To do this, we use the following method:"
   ]
  },
  {
   "cell_type": "code",
   "execution_count": 34,
   "metadata": {
    "vscode": {
     "languageId": "java"
    }
   },
   "outputs": [
    {
     "name": "stdout",
     "output_type": "stream",
     "text": [
      "9\n"
     ]
    }
   ],
   "source": [
    "String str = \"Kaiden Do\";\n",
    "System.out.println(str.length())"
   ]
  },
  {
   "cell_type": "markdown",
   "metadata": {},
   "source": [
    "We can also get a index for the strings. For example, if we take \"Kaiden Do\"...\n",
    "\n",
    "| Index | Character |\n",
    "| --- | --- |\n",
    "| 0 | K |\n",
    "| 1 | a |\n",
    "| 2 | i |\n",
    "| 3 | d |\n",
    "| 4 | e |\n",
    "| 5 | n |\n",
    "| 6 |   |\n",
    "| 7 | D |\n",
    "| 8 | o |"
   ]
  },
  {
   "cell_type": "code",
   "execution_count": 45,
   "metadata": {
    "vscode": {
     "languageId": "java"
    }
   },
   "outputs": [
    {
     "name": "stdout",
     "output_type": "stream",
     "text": [
      "Kaiden\n",
      "Do\n"
     ]
    }
   ],
   "source": [
    "String str = \"Kaiden Do\";\n",
    "System.out.println(str.substring(0, 6)); // Range is [_,_)\n",
    "System.out.println(str.substring(7, 9)); // Range is [_,_)"
   ]
  },
  {
   "cell_type": "markdown",
   "metadata": {},
   "source": [
    "How would we get the nth character of a string? Write a program to find it with an integer n that you can change to get the nth character in the cell below."
   ]
  },
  {
   "cell_type": "code",
   "execution_count": null,
   "metadata": {
    "vscode": {
     "languageId": "java"
    }
   },
   "outputs": [],
   "source": []
  },
  {
   "cell_type": "markdown",
   "metadata": {},
   "source": [
    "Question: If we have a string, what is its lower bound index and what is its upper bound index, if the string length is equal to the variable 'str'?"
   ]
  },
  {
   "cell_type": "markdown",
   "metadata": {},
   "source": [
    "Question: What is the error for an out of bound string? Display it in the cell below."
   ]
  },
  {
   "cell_type": "code",
   "execution_count": null,
   "metadata": {
    "vscode": {
     "languageId": "java"
    }
   },
   "outputs": [],
   "source": []
  },
  {
   "cell_type": "markdown",
   "metadata": {},
   "source": [
    "To do a ctrl-F search through a string, we can use the following process:"
   ]
  },
  {
   "cell_type": "code",
   "execution_count": 46,
   "metadata": {
    "vscode": {
     "languageId": "java"
    }
   },
   "outputs": [
    {
     "name": "stdout",
     "output_type": "stream",
     "text": [
      "246\n"
     ]
    }
   ],
   "source": [
    "String str = \"He stared out the window at the snowy field. He'd been stuck in the house for close to a month and his only view of the outside world was through the window. There wasn't much to see. It was mostly just the field with an occasional bird or small animal who ventured into the field. As he continued to stare out the window, he wondered how much longer he'd be shackled to the steel bar inside the house.\";\n",
    "System.out.println(str.indexOf(\"animal\"))"
   ]
  },
  {
   "cell_type": "markdown",
   "metadata": {},
   "source": [
    "As you can see, the first instance of animal starts at the index of 246."
   ]
  },
  {
   "cell_type": "markdown",
   "metadata": {},
   "source": [
    "To compare two strings to each other, we use two functions:"
   ]
  },
  {
   "cell_type": "code",
   "execution_count": 48,
   "metadata": {
    "vscode": {
     "languageId": "java"
    }
   },
   "outputs": [
    {
     "name": "stdout",
     "output_type": "stream",
     "text": [
      "Does string 1 equal string 2? True or false: true\n",
      "Does string 1 equal string 2? True or false: false\n"
     ]
    }
   ],
   "source": [
    "// To check if a string is equal to another string:\n",
    "String str1 = \"I am hungry\";\n",
    "String str2 = \"I am hungry\";\n",
    "System.out.println(\"Does string 1 equal string 2? True or false: \" + str1.equals(str2));\n",
    "String str2 = \"I am not hungry\";\n",
    "System.out.println(\"Does string 1 equal string 2? True or false: \" + str1.equals(str2));"
   ]
  },
  {
   "cell_type": "code",
   "execution_count": 55,
   "metadata": {
    "vscode": {
     "languageId": "java"
    }
   },
   "outputs": [
    {
     "name": "stdout",
     "output_type": "stream",
     "text": [
      "-6\n"
     ]
    },
    {
     "name": "stdout",
     "output_type": "stream",
     "text": [
      "0\n",
      "1\n"
     ]
    }
   ],
   "source": [
    "// To compare the lengths of the strings\n",
    "\n",
    "// Case 1: String 1 is shorter than string 2\n",
    "String str1 = \"I am hungry\";\n",
    "String str2 = \"I am not hungry\";\n",
    "System.out.println(str1.compareTo(str2)); // Returns less than 0\n",
    "\n",
    "// Case 2: String 1 is equal string 2\n",
    "String str1 = \"I am hungry\";\n",
    "String str2 = \"I am hungry\";\n",
    "System.out.println(str1.compareTo(str2)); // Returns 0\n",
    "\n",
    "// Case 3: String 1 is longer than string 2\n",
    "String str1 = \"I am hungry\";\n",
    "String str2 = \"Hello!\";\n",
    "System.out.println(str1.compareTo(str2)); // Returns greater than 0"
   ]
  },
  {
   "cell_type": "markdown",
   "metadata": {},
   "source": [
    "compareTo() returns the difference of first unmatched character in the two compared strings. If no unmatch is found, and one string comes out as shorter than other one, then the length difference is returned. It also checks to see if a string comes before or after another string alphabetically."
   ]
  }
 ],
 "metadata": {
  "kernelspec": {
   "display_name": "Java",
   "language": "java",
   "name": "java"
  },
  "language_info": {
   "codemirror_mode": "java",
   "file_extension": ".jshell",
   "mimetype": "text/x-java-source",
   "name": "Java",
   "pygments_lexer": "java",
   "version": "20.0.2+9-78"
  },
  "orig_nbformat": 4
 },
 "nbformat": 4,
 "nbformat_minor": 2
}
