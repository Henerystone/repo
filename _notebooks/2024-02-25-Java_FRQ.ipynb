{
 "cells": [
  {
   "cell_type": "markdown",
   "metadata": {},
   "source": [
    "---\n",
    "toc: true\n",
    "comments: true\n",
    "layout: notebook\n",
    "title: Java Frq 1\n",
    "courses: { csp: {week: 19} }\n",
    "type: hacks\n",
    "---"
   ]
  },
  {
   "cell_type": "code",
   "execution_count": null,
   "metadata": {},
   "outputs": [],
   "source": [
    "public static int arraySum(int[] arr) {\n",
    "    int sum = 0;\n",
    "    for (int num : arr) {\n",
    "        sum += num;\n",
    "    }\n",
    "    return sum;\n",
    "}\n"
   ]
  },
  {
   "cell_type": "code",
   "execution_count": null,
   "metadata": {},
   "outputs": [],
   "source": [
    "public static int[] rowSums(int[][] arr2D) {\n",
    "    int numRows = arr2D.length;\n",
    "    int[] sums = new int[numRows];\n",
    "\n",
    "    for (int i = 0; i < numRows; i++) {\n",
    "        sums[i] = arraySum(arr2D[i]);\n",
    "    }\n",
    "\n",
    "    return sums;\n",
    "}\n"
   ]
  },
  {
   "cell_type": "code",
   "execution_count": null,
   "metadata": {},
   "outputs": [],
   "source": [
    "public static boolean isDiverse(int[][] arr2D) {\n",
    "    int[] sums = rowSums(arr2D);\n",
    "\n",
    "    for (int i = 0; i < sums.length - 1; i++) {\n",
    "        for (int j = i + 1; j < sums.length; j++) {\n",
    "            if (sums[i] == sums[j]) {\n",
    "                return false; \n",
    "            }\n",
    "        }\n",
    "    }\n",
    "\n",
    "    return true; \n",
    "}\n"
   ]
  }
 ],
 "metadata": {
  "language_info": {
   "name": "python"
  }
 },
 "nbformat": 4,
 "nbformat_minor": 2
}
