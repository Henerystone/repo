{
 "cells": [
  {
   "cell_type": "code",
   "execution_count": null,
   "metadata": {},
   "outputs": [],
   "source": [
    "public static int arraySum(int[] arr) {\n",
    "    int sum = 0;\n",
    "    for (int num : arr) {\n",
    "        sum += num;\n",
    "    }\n",
    "    return sum;\n",
    "}\n"
   ]
  },
  {
   "cell_type": "code",
   "execution_count": null,
   "metadata": {},
   "outputs": [],
   "source": [
    "public static int[] rowSums(int[][] arr2D) {\n",
    "    int numRows = arr2D.length;\n",
    "    int[] sums = new int[numRows];\n",
    "\n",
    "    for (int i = 0; i < numRows; i++) {\n",
    "        sums[i] = arraySum(arr2D[i]);\n",
    "    }\n",
    "\n",
    "    return sums;\n",
    "}\n"
   ]
  },
  {
   "cell_type": "code",
   "execution_count": null,
   "metadata": {},
   "outputs": [],
   "source": [
    "public static boolean isDiverse(int[][] arr2D) {\n",
    "    int[] sums = rowSums(arr2D);\n",
    "\n",
    "    for (int i = 0; i < sums.length - 1; i++) {\n",
    "        for (int j = i + 1; j < sums.length; j++) {\n",
    "            if (sums[i] == sums[j]) {\n",
    "                return false; \n",
    "            }\n",
    "        }\n",
    "    }\n",
    "\n",
    "    return true; \n",
    "}\n"
   ]
  },
  {
   "cell_type": "code",
   "execution_count": null,
   "metadata": {},
   "outputs": [],
   "source": [
    "public class HiddenWord {\n",
    "    private String hiddenWord;\n",
    "\n",
    "    public HiddenWord(String word) {\n",
    "        hiddenWord = word;\n",
    "    }\n",
    "\n",
    "    public String getHint(String guess) {\n",
    "        StringBuilder hint = new StringBuilder();\n",
    "\n",
    "        for (int i = 0; i < guess.length(); i++) {\n",
    "            char guessChar = guess.charAt(i);\n",
    "            char hiddenChar = hiddenWord.charAt(i);\n",
    "\n",
    "            if (guessChar == hiddenChar) {\n",
    "                hint.append(hiddenChar); \n",
    "            } else if (hiddenWord.indexOf(guessChar) != -1) {\n",
    "                hint.append(\"+\"); \n",
    "            } else {\n",
    "                hint.append(\"*\"); \n",
    "            }\n",
    "        }\n",
    "\n",
    "        return hint.toString();\n",
    "    }\n",
    "}\n"
   ]
  },
  {
   "cell_type": "code",
   "execution_count": null,
   "metadata": {},
   "outputs": [],
   "source": [
    "public int getValueAt(int row, int col) {\n",
    "    for (SparseArrayEntry entry : entries) {\n",
    "        if (entry.getRow() == row && entry.getCol() == col) {\n",
    "            return entry.getValue();\n",
    "        }\n",
    "    }\n",
    "    return 0; \n",
    "}\n"
   ]
  },
  {
   "cell_type": "code",
   "execution_count": null,
   "metadata": {},
   "outputs": [],
   "source": [
    "public void removeColumn(int col) {\n",
    "    Iterator<SparseArrayEntry> iterator = entries.iterator();\n",
    "    while (iterator.hasNext()) {\n",
    "        SparseArrayEntry entry = iterator.next();\n",
    "        if (entry.getCol() == col) {\n",
    "            iterator.remove();\n",
    "        } else if (entry.getCol() > col) {\n",
    "            entry.decrementCol(); \n",
    "        }\n",
    "    }\n",
    "    numCols--; \n",
    "}\n"
   ]
  },
  {
   "cell_type": "code",
   "execution_count": null,
   "metadata": {},
   "outputs": [],
   "source": [
    "public void decrementCol() {\n",
    "    col--;\n",
    "}\n"
   ]
  },
  {
   "cell_type": "code",
   "execution_count": null,
   "metadata": {},
   "outputs": [],
   "source": [
    "public class SparseArrayEntry {\n",
    "    private int row;\n",
    "    private int col;\n",
    "    private int value;\n",
    "\n",
    "    public void decrementCol() {\n",
    "        col--;\n",
    "    }\n",
    "}\n"
   ]
  }
 ],
 "metadata": {
  "language_info": {
   "name": "python"
  }
 },
 "nbformat": 4,
 "nbformat_minor": 2
}
