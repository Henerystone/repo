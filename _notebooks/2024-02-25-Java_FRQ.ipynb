{
 "cells": [
  {
   "cell_type": "markdown",
   "metadata": {},
   "source": [
    "---\n",
    "toc: true\n",
    "comments: true\n",
    "layout: notebook\n",
    "title: Java Frq 1\n",
    "courses: { csp: {week: 19} }\n",
    "type: hacks\n",
    "---"
   ]
  },
  {
   "cell_type": "markdown",
   "metadata": {},
   "source": [
    "# FRQ QUESTION 1\n",
    "\n",
    "- "
   ]
  },
  {
   "cell_type": "code",
   "execution_count": null,
   "metadata": {},
   "outputs": [],
   "source": [
    "public static int arraySum(int[] arr) {\n",
    "    int sum = 0;\n",
    "    for (int num : arr) {\n",
    "        sum += num;\n",
    "    }\n",
    "    return sum;\n",
    "}\n",
    "public class partA {\n",
    "    public static void main(String[] args) {\n",
    "        int[] mat1 = {1,3,2,7,3};\n",
    "        \n",
    "        int sum = arraySum(mat1);\n",
    "        System.out.println(sum);\n",
    "    }\n",
    "}\n",
    "partA.main(null);\n"
   ]
  },
  {
   "cell_type": "markdown",
   "metadata": {},
   "source": []
  },
  {
   "cell_type": "code",
   "execution_count": null,
   "metadata": {},
   "outputs": [],
   "source": [
    "public static int[] rowSums(int[][] arr2D) {\n",
    "    int numRows = arr2D.length;\n",
    "    int[] sums = new int[numRows];\n",
    "\n",
    "    for (int i = 0; i < numRows; i++) {\n",
    "        sums[i] = arraySum(arr2D[i]);\n",
    "    }\n",
    "\n",
    "    return sums;\n",
    "}\n",
    "public class partB {\n",
    "    public static void main(String[] args) {\n",
    "        int[][] mat1 = {\n",
    "            {1, 3, 2, 7, 3},\n",
    "            {10, 10, 4, 6, 2},\n",
    "            {5, 3, 5, 9, 6},\n",
    "            {7, 6, 4, 2, 1}\n",
    "        };\n",
    "        int[] sums = rowSums(mat1);\n",
    "\n",
    "        for(int i = 0; i < sums.length; i++){\n",
    "            System.out.println(\"Row \" + i + \" sum: \" + sums[i]);\n",
    "        }\n",
    "    }\n",
    "}\n",
    "partB.main(null)"
   ]
  },
  {
   "cell_type": "markdown",
   "metadata": {},
   "source": []
  },
  {
   "cell_type": "code",
   "execution_count": null,
   "metadata": {},
   "outputs": [],
   "source": [
    "public static boolean isDiverse(int[][] arr2D) {\n",
    "    int[] sums = rowSums(arr2D);\n",
    "\n",
    "    for (int i = 0; i < sums.length - 1; i++) {\n",
    "        for (int j = i + 1; j < sums.length; j++) {\n",
    "            if (sums[i] == sums[j]) {\n",
    "                return false; \n",
    "            }\n",
    "        }\n",
    "    }\n",
    "\n",
    "    return true; \n",
    "}\n",
    "public class partC {\n",
    "    public static void main(String[][] args) {\n",
    "        int[][] mat1 = {\n",
    "            {1, 3, 2, 7, 3},\n",
    "            {10, 10, 4, 6, 2},\n",
    "            {5, 3, 5, 9, 6},\n",
    "            {7, 6, 4, 2, 1}\n",
    "        };\n",
    "        int[][] mat2 = {\n",
    "            {1, 1, 5, 3, 4},\n",
    "            {12, 7, 6, 1, 9},\n",
    "            {8, 11, 10, 2, 5},\n",
    "            {3, 2, 3, 0, 6}\n",
    "        };\n",
    "        \n",
    "        System.out.println(\"mat1 is \" + isDiverse(mat1));\n",
    "        System.out.println(\"mat2 is \" + isDiverse(mat2));\n",
    "    }\n",
    "}\n",
    "partC.main(null)"
   ]
  },
  {
   "cell_type": "markdown",
   "metadata": {},
   "source": []
  }
 ],
 "metadata": {
  "language_info": {
   "name": "python"
  }
 },
 "nbformat": 4,
 "nbformat_minor": 2
}
