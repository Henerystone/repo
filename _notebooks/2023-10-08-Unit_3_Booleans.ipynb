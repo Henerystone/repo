{
 "cells": [
  {
   "cell_type": "markdown",
   "metadata": {},
   "source": [
    "---\n",
    "toc: true\n",
    "comments: true\n",
    "layout: post\n",
    "title: Unit 3 Lesson\n",
    "type: tangibles\n",
    "courses: { csa: {week: 8} }\n",
    "---"
   ]
  },
  {
   "cell_type": "markdown",
   "metadata": {},
   "source": [
    "# Lessons\n",
    "\n",
    "## 3.1\n",
    "\n",
    "### Learning Objective\n",
    "- Evaluate Boolean expressions that use relational operators in program code\n",
    "\n",
    "Types of Rational Operators\n",
    "- Operators\n",
    "    - Primitives\n",
    "    - Equal to: ==\n",
    "    - Not Equal to: !=\n",
    "- Arithmetic\n",
    "    - Greater than: >\n",
    "    - Less than: >\n",
    "    - Greater than or equal to: >=\n",
    "    - Less than or equal to: <=\n",
    "\n",
    "All operators give a `true` or `False` value\n",
    "\n",
    "<mark> Operators SHOULD NOT be used on String <mark>. String comparisons should be done using .equal or .compareTo\n",
    "\n",
    "- This is because\n",
    "    - In Java, strings should not be compared using the == operator because it checks for ____________ equality, not ____________ equality.\n",
    "    - When you use == with objects (including strings), it checks if the references to the objects are the same. In other words, it checks if they point to the same ____________ in the memory.\n",
    "    - String literals in Java are stored in a special memory area called the \"String Pool\". When you create a string literal, Java checks if a string with the same content already exists in the pool. If it does, it returns a reference to that existing string; if not, it creates a new string.\n"
   ]
  },
  {
   "cell_type": "markdown",
   "metadata": {},
   "source": [
    "### Comparing Numbers\n",
    "<html>\n",
    "<head>\n",
    "    <style>\n",
    "        table {\n",
    "            border-collapse: collapse;\n",
    "            margin: 20px auto;\n",
    "        }\n",
    "        table, th, td {\n",
    "            border: 1px solid black;\n",
    "            padding: 10px;\n",
    "        }\n",
    "        select {\n",
    "            width: 100px;\n",
    "        }\n",
    "    </style>\n",
    "</head>\n",
    "<body>\n",
    "    <p>Select two numbers and check their relation:</p>\n",
    "    <label for=\"firstNumber\">First Number: </label>\n",
    "    <select id=\"firstNumber\">\n",
    "        <option value=\"0\">0</option>\n",
    "        <option value=\"1\">1</option>\n",
    "        <option value=\"2\">2</option>\n",
    "        <!-- Add more options as needed -->\n",
    "    </select>\n",
    "    <label for=\"relationOperator\">Relation: </label>\n",
    "    <select id=\"relationOperator\">\n",
    "        <option value=\"equal\">=</option>\n",
    "        <option value=\"greaterequal\">>=</option>\n",
    "        <option value=\"lessequal\"><=</option>\n",
    "        <option value=\"greater\">></option>\n",
    "        <option value=\"less\"><</option>\n",
    "    </select>\n",
    "    <label for=\"secondNumber\">Second Number: </label>\n",
    "    <select id=\"secondNumber\">\n",
    "        <option value=\"0\">0</option>\n",
    "        <option value=\"1\">1</option>\n",
    "        <option value=\"2\">2</option>\n",
    "        <!-- Add more options as needed -->\n",
    "    </select>\n",
    "    <button onclick=\"checkRelation()\">Check</button>\n",
    "    <p id=\"result\"></p>\n",
    "    <script>\n",
    "        function checkRelation() {\n",
    "            const firstNumber = parseInt(document.getElementById('firstNumber').value);\n",
    "            const secondNumber = parseInt(document.getElementById('secondNumber').value);\n",
    "            const relationOperator = document.getElementById('relationOperator').value;\n",
    "            let result = '';\n",
    "            switch (relationOperator) {\n",
    "                case 'equal':\n",
    "                    result = firstNumber === secondNumber ? 'The numbers are equal.' : 'The numbers are not equal.';\n",
    "                    break;\n",
    "                case 'greaterequal':\n",
    "                    result = firstNumber >= secondNumber ? 'The first number is greater than or equal to the second number.' : 'This is false.';\n",
    "                    break;\n",
    "                case 'lessequal':\n",
    "                    result = firstNumber <= secondNumber ? 'The first number is less than or equal to the second number.' : 'This is false.';\n",
    "                    break;\n",
    "                case 'greater':\n",
    "                    result = firstNumber > secondNumber ? 'The first number is greater.' : 'This is false.';\n",
    "                    break;\n",
    "                case 'less':\n",
    "                    result = firstNumber < secondNumber ? 'The second number is greater' : 'This is false.';\n",
    "                    break;\n",
    "                default:\n",
    "                    result = 'Invalid operator';\n",
    "                    break;\n",
    "            }\n",
    "            document.getElementById('result').textContent = result;\n",
    "        }\n",
    "    </script>\n",
    "</body>\n",
    "</html>"
   ]
  },
  {
   "cell_type": "code",
   "execution_count": 3,
   "metadata": {},
   "outputs": [
    {
     "name": "stdout",
     "output_type": "stream",
     "text": [
      "false\n"
     ]
    }
   ],
   "source": [
    "public class Test {\n",
    "    public static void main(){\n",
    "        String a = \"Hello\";\n",
    "        String b = new String(\"Hello\");\n",
    "\n",
    "        System.out.println( a == b);\n",
    "    }\n",
    "}\n",
    "Test.main()"
   ]
  },
  {
   "cell_type": "markdown",
   "metadata": {},
   "source": [
    "## 3.2 3.3 and 3.4\n",
    "\n",
    "\n",
    "### Learning Objective\n",
    "- Represent branching logical processes by using conditional statements\n",
    "\n",
    "We all know how if and else statements work\n",
    "\n",
    "We all know how if and else statements work\n",
    "\n",
    "#### Syntax"
   ]
  },
  {
   "cell_type": "markdown",
   "metadata": {},
   "source": [
    "<head>\n",
    "<meta charset=\"UTF-8\">\n",
    "<meta name=\"viewport\" content=\"width=device-width, initial-scale=1.0\">\n",
    "<title>Interactive Flip Cards</title>\n",
    "<style>\n",
    "  .flip-card {\n",
    "    background-color: #f1f1f1;\n",
    "    width: 700px;\n",
    "    height: 250px;\n",
    "    perspective: 1000px;\n",
    "    border: 1px solid #ccc;\n",
    "    margin: 10px;\n",
    "    cursor: pointer;\n",
    "  }\n",
    "  .flip-card-inner {\n",
    "    position: relative;\n",
    "    width: 100%;\n",
    "    height: 100%;\n",
    "    transition: transform 0.6s;\n",
    "    transform-style: preserve-3d;\n",
    "  }\n",
    "  .flip-card-front, .flip-card-back {\n",
    "    position: absolute;\n",
    "    width: 100%;\n",
    "    height: 100%;\n",
    "    backface-visibility: hidden;\n",
    "  }\n",
    "  .flip-card-front {\n",
    "    background-color: #bbb;\n",
    "    color: #000;\n",
    "    z-index: 2;\n",
    "    text-align: left; /* Align text to the left */\n",
    "    padding: 5px; /* Add some padding for better readability */\n",
    "  }\n",
    "  .flip-card-back {\n",
    "    background-color: #555;\n",
    "    color: #fff;\n",
    "    transform: rotateY(180deg);\n",
    "    text-align: left; /* Align text to the left */\n",
    "    padding: 5px; /* Add some padding for better readability */\n",
    "  }\n",
    "  .flip-card:hover .flip-card-inner {\n",
    "    transform: rotateY(180deg);\n",
    "  }\n",
    "</style>\n",
    "</head>\n",
    "<body>\n",
    "\n",
    "<div class=\"flip-card\">\n",
    "  <div class=\"flip-card-inner\">\n",
    "    <div class=\"flip-card-front\">\n",
    "      <h3>if-else Syntax</h3>\n",
    "    </div>\n",
    "    <div class=\"flip-card-back\">\n",
    "      <pre>\n",
    "        if (condition) {\n",
    "            // Code to execute if the condition is true\n",
    "        } else {\n",
    "            // Code to execute if the condition is false\n",
    "        }\n",
    "      </pre>\n",
    "    </div>\n",
    "  </div>\n",
    "</div>\n",
    "\n",
    "<div class=\"flip-card\">\n",
    "  <div class=\"flip-card-inner\">\n",
    "    <div class=\"flip-card-front\">\n",
    "      <h3>else-if Syntax</h3>\n",
    "    </div>\n",
    "    <div class=\"flip-card-back\">\n",
    "      <pre>\n",
    "        if (condition1) {\n",
    "            // Code to be executed if condition1 is true\n",
    "        } else if (condition2) {\n",
    "            // Code to be executed if condition2 is true\n",
    "        } else if (condition3) {\n",
    "            // Code to be executed if condition3 is true\n",
    "        } else {\n",
    "            // Code to be executed if none of the conditions are true\n",
    "        }\n",
    "      </pre>\n",
    "    </div>\n",
    "  </div>\n",
    "</div>\n",
    "\n",
    "</body>\n",
    "</html>"
   ]
  },
  {
   "cell_type": "markdown",
   "metadata": {},
   "source": [
    "## 3.5\n",
    "\n",
    "### Learning Objectives:\n",
    "\n",
    "- Understand nested if-else statements and their role in representing branching logical processes.\n",
    "- Evaluate compound boolean expressions using logical operators like ``&&`` and ``||``.\n",
    "- Introduce short-circuited evaluation in compound boolean expressions.\n",
    "\n",
    "#### Nested if-else statements\n",
    "Nested if-else statements allow for ____________ levels of decision-making within a program.\n"
   ]
  },
  {
   "cell_type": "code",
   "execution_count": 7,
   "metadata": {},
   "outputs": [
    {
     "name": "stdout",
     "output_type": "stream",
     "text": [
      "x is positive, but y is not.\n"
     ]
    }
   ],
   "source": [
    "public class Nested {\n",
    "    public static void main() {\n",
    "        int x = 5;\n",
    "        int y = -10;\n",
    "\n",
    "        if (x > 0) {\n",
    "            if (y > 0) {\n",
    "                System.out.println(\"Both x and y are positive.\");\n",
    "            } else {\n",
    "                System.out.println(\"x is positive, but y is not.\");\n",
    "            }\n",
    "        } else {\n",
    "            System.out.println(\"x is not positive.\");\n",
    "        }\n",
    "            }\n",
    "}\n",
    "Nested.main()"
   ]
  },
  {
   "cell_type": "markdown",
   "metadata": {},
   "source": [
    "#### Compound Boolean Expressions:\n",
    "\n",
    "Compound boolean expressions involve using ____________ operators like ``&& (and)`` and ``|| (or)`` to combine multiple conditions."
   ]
  },
  {
   "cell_type": "code",
   "execution_count": 9,
   "metadata": {},
   "outputs": [
    {
     "name": "stdout",
     "output_type": "stream",
     "text": [
      "You are an adult student.\n"
     ]
    }
   ],
   "source": [
    "public class Compound {\n",
    "    public static void main(){\n",
    "        int age = 25;\n",
    "        boolean isStudent = true;\n",
    "\n",
    "        if (age >= 18 && isStudent) {\n",
    "            System.out.println(\"You are an adult student.\");\n",
    "        } else if (age >= 18 || isStudent) {\n",
    "            System.out.println(\"You are either an adult or a student.\");\n",
    "        } else {\n",
    "            System.out.println(\"You are neither an adult nor a student.\");\n",
    "        }\n",
    "            }\n",
    "}\n",
    "Compound.main()"
   ]
  },
  {
   "cell_type": "markdown",
   "metadata": {},
   "source": [
    "#### Short-Circuited Evaluation:\n",
    "Short-circuited evaluation is an ____________ technique where the second condition in a ``compound expression is only evaluated if the first condition is true (for &&) or false (for ||).``"
   ]
  },
  {
   "cell_type": "code",
   "execution_count": 11,
   "metadata": {},
   "outputs": [
    {
     "name": "stdout",
     "output_type": "stream",
     "text": [
      "This will be printed.\n"
     ]
    }
   ],
   "source": [
    "public class Short {\n",
    "    public static void main() {\n",
    "        boolean condition1 = true;\n",
    "        boolean condition2 = false;\n",
    "\n",
    "        if (condition1 || condition2) {\n",
    "            System.out.println(\"This will be printed.\");\n",
    "        }\n",
    "    }\n",
    "}\n",
    "\n",
    "Short.main()"
   ]
  },
  {
   "cell_type": "markdown",
   "metadata": {},
   "source": [
    "#### Coding Practice\n",
    "Calculate the final grade based on the following criteria:\n",
    "- If the student didn't complete homework, the grade is automatically \"F.\"\n",
    "- If the student completed homework and the average of midterm and final exam scores is >= 70, the grade is \"Pass.\"\n",
    "- Otherwise, the grade is \"Fail.\""
   ]
  },
  {
   "cell_type": "code",
   "execution_count": 1,
   "metadata": {},
   "outputs": [
    {
     "ename": "CompilationException",
     "evalue": "",
     "output_type": "error",
     "traceback": [
      "\u001b[1m\u001b[30m|   \u001b[1m\u001b[30m        if (\u001b[0m\u001b[1m\u001b[30m\u001b[41m\u001b[0m\u001b[1m\u001b[30m) {\u001b[0m",
      "\u001b[1m\u001b[31millegal start of expression\u001b[0m",
      ""
     ]
    }
   ],
   "source": [
    "import java.util.Scanner;\n",
    "\n",
    "public class GradeCalculator {\n",
    "    public static void main(String[] args) {\n",
    "        Scanner scanner = new Scanner(System.in);\n",
    "\n",
    "        System.out.print(\" Enter your midterm score (0-100): \\n\");\n",
    "        int midtermScore = scanner.nextInt();\n",
    "        System.out.print(midtermScore);\n",
    "\n",
    "        System.out.print(\"\\n Enter your final exam score (0-100): \\n\");\n",
    "        int finalExamScore = scanner.nextInt();\n",
    "        System.out.print(finalExamScore);\n",
    "\n",
    "        System.out.print(\"\\n Did you complete the homework (yes/no): \\n\");\n",
    "        String homeworkComplete = scanner.next().toLowerCase();\n",
    "        System.out.print(homeworkComplete);\n",
    "\n",
    "        // write code here\n",
    "        if (homeworkComplete ==\"no\") {\n",
    "            grade = \"fail\"\n",
    "        } else {\n",
    "\n",
    "        }\n",
    "\n",
    "        System.out.println(\"\\n Your final grade is: \" + grade);\n",
    "\n",
    "        scanner.close();\n",
    "    }\n",
    "}\n",
    "\n",
    "GradeCalculator.main(null)"
   ]
  },
  {
   "cell_type": "markdown",
   "metadata": {},
   "source": [
    "## 3.6\n",
    "\n",
    "### Learning Objective\n",
    "- Compare and contrast equivalent Boolean expressions\n",
    "\n",
    "De Morgan’s Law\n",
    "- Augustus De Morgan was a 19th century mathematician whose laws or rules about ____________ logic allow us to simplify expressions when they are negated\n",
    "Given two Boolean variables a and b:\n",
    "\n",
    "``De Morgan's Law provides a set of rules for negating complex boolean expressions. ``\n",
    "\n",
    "Example:\n",
    "\n",
    "Using ``&&`` operators:\n",
    "\n",
    "![image](https://github.com/Firestorm0986/frontend-proj/assets/108041389/e02209c1-c2f5-4dab-8106-6f97824d5322)\n",
    "\n",
    "Using ``||`` operator:\n",
    "\n",
    "![image](https://github.com/Firestorm0986/frontend-proj/assets/108041389/beb4e917-03c2-4709-96f9-88981ee69812)\n",
    "\n"
   ]
  },
  {
   "cell_type": "markdown",
   "metadata": {},
   "source": [
    "#### More:\n",
    "\n",
    "- !(x > 0) → (x <= 0)\n",
    "- Distributing a “not” with a boolean expression “flips” the relational operator to the opposite relational operator\n",
    "    - !(x < 0) → (x >= 0)\n",
    "    - !(x >= 0) → (x < 0)\n",
    "    - !(x == 0) → (x != 0)\n",
    "    - ! (x != 0) → ( x == 0) \n",
    "\n",
    "\n",
    "#### A bit more complex:\n",
    "![image](https://github.com/Firestorm0986/frontend-proj/assets/108041389/1fa9c9c3-db17-443c-94cc-0be8e6e62436)\n",
    "\n",
    "#### Proving the law using tables\n",
    "![image](https://github.com/Firestorm0986/frontend-proj/assets/108041389/cd135d80-df08-442b-aa73-35e8afbef96b)"
   ]
  },
  {
   "cell_type": "code",
   "execution_count": 13,
   "metadata": {},
   "outputs": [
    {
     "name": "stdout",
     "output_type": "stream",
     "text": [
      "Are the expressions equivalent? true\n"
     ]
    }
   ],
   "source": [
    "public class Example {\n",
    "    public static void main(){\n",
    "        boolean x = true;\n",
    "        boolean y = false;\n",
    "\n",
    "        // Original expression\n",
    "        boolean originalExp = !(x && y);\n",
    "\n",
    "        // Applying De Morgan's Law\n",
    "        boolean equivalentExp = !x || !y;\n",
    "\n",
    "        // Checking if the results are equivalent\n",
    "        System.out.println(\"Are the expressions equivalent? \" + (originalExp == equivalentExp));\n",
    "\n",
    "    }\n",
    "}\n",
    "Example.main()"
   ]
  },
  {
   "cell_type": "code",
   "execution_count": 14,
   "metadata": {},
   "outputs": [
    {
     "name": "stdout",
     "output_type": "stream",
     "text": [
      "Are the expressions equivalent? true\n"
     ]
    }
   ],
   "source": [
    "public class Example2 {\n",
    "    public static void main(){\n",
    "        boolean p = true;\n",
    "        boolean q = true;\n",
    "\n",
    "        // Original expression\n",
    "        boolean originalExp2 = !(p || q);\n",
    "\n",
    "        // Applying De Morgan's Law\n",
    "        boolean equivalentExp2 = !p && !q;\n",
    "\n",
    "        // Checking if the results are equivalent\n",
    "        System.out.println(\"Are the expressions equivalent? \" + (originalExp2 == equivalentExp2));\n",
    "    }\n",
    "}\n",
    "\n",
    "Example2.main()"
   ]
  },
  {
   "cell_type": "code",
   "execution_count": 15,
   "metadata": {},
   "outputs": [
    {
     "name": "stdout",
     "output_type": "stream",
     "text": [
      "Are the expressions equivalent? true\n"
     ]
    }
   ],
   "source": [
    "public class Example3 {\n",
    "    public static void main(){\n",
    "        boolean a = true;\n",
    "        boolean b = false;\n",
    "        boolean c = true;\n",
    "\n",
    "        // Original expression\n",
    "        boolean originalExp3 = !(a && b) || (c || !b);\n",
    "\n",
    "        // Applying De Morgan's Law\n",
    "        boolean equivalentExp3 = (!a || !b) || (c || b);\n",
    "\n",
    "        // Checking if the results are equivalent\n",
    "        System.out.println(\"Are the expressions equivalent? \" + (originalExp3 == equivalentExp3));\n",
    "\n",
    "    }\n",
    "}\n",
    "\n",
    "Example3.main()"
   ]
  },
  {
   "cell_type": "markdown",
   "metadata": {},
   "source": [
    "#### De Morgan's Law Practice\n",
    "\n",
    "Negate the following expressions:\n",
    "\n",
    "``1. !(A || B)`` not a and not b\n",
    "\n",
    "\n",
    "``2. !(A || B && C)`` not a and not b and not b or not c\n",
    "\n",
    "\n",
    "``3. !(A && (B || C))``not a or not b and not c"
   ]
  },
  {
   "cell_type": "markdown",
   "metadata": {},
   "source": [
    "## 3.7\n",
    "\n",
    "### Learning Objective\n",
    "- Compare object reference using boolean expressions in program code\n",
    "\n",
    "![image](https://github.com/Ishi-Singh/Fastpages/assets/82348259/40517c16-2f13-460c-89ea-f8f53a0a7a34)\n",
    "\n",
    "An if statement using == to compare myHouse and momsHouse will be true but false for myHouse and annasHouse because the objects are not the same even though they have same parameters. This means that == will only return true if it is the same object, not a reference or copy of that object. "
   ]
  },
  {
   "cell_type": "code",
   "execution_count": 8,
   "metadata": {},
   "outputs": [
    {
     "name": "stdout",
     "output_type": "stream",
     "text": [
      "true\n",
      "false\n"
     ]
    },
    {
     "name": "stdout",
     "output_type": "stream",
     "text": [
      "true\n",
      "false\n"
     ]
    }
   ],
   "source": [
    "String a = \"Hello\";\n",
    "String b = \"Hello\";\n",
    "String c = a;\n",
    "String d = new String(\"Hello\");\n",
    "\n",
    "System.out.println(a == c);\n",
    "System.out.println(d == b);\n",
    "System.out.println(a == b);\n",
    "System.out.println(a == d);"
   ]
  },
  {
   "cell_type": "markdown",
   "metadata": {},
   "source": [
    "![image](https://github.com/Ishi-Singh/Fastpages/assets/82348259/998e721e-1c5e-41a7-9799-13cfdee14ee2)\n",
    "\n",
    "When you want to compare objects you can use the .equal() method, it will return true if the objects have the same attributes even if they aren't identical."
   ]
  },
  {
   "cell_type": "code",
   "execution_count": 7,
   "metadata": {},
   "outputs": [
    {
     "name": "stdout",
     "output_type": "stream",
     "text": [
      "true\n",
      "true\n",
      "true\n",
      "true\n"
     ]
    }
   ],
   "source": [
    "String a = \"Hello\";\n",
    "String b = \"Hello\";\n",
    "String c = a;\n",
    "String d = new String(\"Hello\");\n",
    "\n",
    "System.out.println(a.equals(c));\n",
    "System.out.println(d.equals(b));\n",
    "System.out.println(a.equals(b));\n",
    "System.out.println(a.equals(d));"
   ]
  },
  {
   "cell_type": "markdown",
   "metadata": {},
   "source": [
    "# Hacks \n",
    "\n",
    "- Complete popcorn hacks - 0.1 points\n",
    "- Coding hacks - 0.8 points\n",
    "    - Complexity: 0.4 points\n",
    "    - Functionality: 0.4 points"
   ]
  },
  {
   "cell_type": "markdown",
   "metadata": {},
   "source": [
    "## Coding Practice\n",
    "\n",
    "Create a program that validates a user's password based on the following criteria:\n",
    "\n",
    "1. The password must be at least 8 characters long.\n",
    "2. The password must contain at least one uppercase letter.\n",
    "3. The password must contain at least one lowercase letter.\n",
    "4. The password must contain at least one digit (0-9).\n",
    "5. The password must contain at least one special character (!, @, #, $, %, ^, &, *).\n",
    "\n",
    "Write a Java program that prompts the user to enter a password and then checks if it meets the above criteria. If the password meets all the criteria, print \"Password is valid.\" If not, print a message indicating which criteria the password fails to meet.\n"
   ]
  }
 ],
 "metadata": {
  "kernelspec": {
   "display_name": "Java",
   "language": "java",
   "name": "java"
  },
  "language_info": {
   "codemirror_mode": "java",
   "file_extension": ".jshell",
   "mimetype": "text/x-java-source",
   "name": "java",
   "pygments_lexer": "java",
   "version": "11.0.20+8-post-Ubuntu-1ubuntu120.04"
  },
  "orig_nbformat": 4
 },
 "nbformat": 4,
 "nbformat_minor": 2
}
