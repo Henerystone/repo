{
 "cells": [
  {
   "attachments": {},
   "cell_type": "markdown",
   "metadata": {},
   "source": [
    "---\n",
    "toc: true\n",
    "comments: true\n",
    "layout: post\n",
    "title: Topics 5.4-5.8\n",
    "---"
   ]
  },
  {
   "cell_type": "markdown",
   "metadata": {},
   "source": [
    "# Topic 5.4: Accessor Methods\n",
    "\n",
    "In Java, classes serve as blueprints for creating objects. These classes can encapsulate attributes (fields) and behaviors (methods). One of the cornerstones of Object-Oriented Programming is **data encapsulation**. This principle restricts direct access to some of an object's components, ensuring data integrity and security. Accessor methods, colloquially known as \"getters\", offer a controlled means to access these attributes.\n",
    "\n",
    "## Accessor Methods\n",
    "\n",
    "An **Accessor Method** permits other objects to retrieve the value of instance or static variables. They are typically non-void methods without parameters that return a value.\n",
    "\n",
    "For instance, consider a class `Circle`:"
   ]
  },
  {
   "cell_type": "code",
   "execution_count": null,
   "metadata": {},
   "outputs": [],
   "source": [
    "public class Circle {\n",
    "    private double radius;\n",
    "\n",
    "    public Circle(double r) {\n",
    "        this.radius =  r;\n",
    "    }\n",
    "\n",
    "    // Accessor method for radius\n",
    "    public double getRadius() {\n",
    "        return radius;\n",
    "    }\n",
    "}"
   ]
  },
  {
   "cell_type": "markdown",
   "metadata": {},
   "source": [
    "In the code above, the method `getRadius` is an accessor method. It allows external code to retrieve the value of the `radius` attribute without directly accessing the private field. This is a fundamental aspect of data encapsulation, ensuring that the internal state of an object is protected and can only be accessed or modified in controlled ways."
   ]
  },
  {
   "cell_type": "markdown",
   "metadata": {},
   "source": [
    "## Return by Value\n",
    "\n",
    "Java employs the \"return by value\" approach for its methods. This implies that when a method returns a value, it's essentially returning a copy of that value. This is especially true for primitive data types."
   ]
  },
  {
   "cell_type": "code",
   "execution_count": null,
   "metadata": {},
   "outputs": [],
   "source": [
    "public int getIntegerValue() {\n",
    "    int value = 5;\n",
    "    return value;\n",
    "}"
   ]
  },
  {
   "cell_type": "markdown",
   "metadata": {},
   "source": [
    "In the method above, the value `5` is returned, not the variable `value` itself."
   ]
  },
  {
   "cell_type": "markdown",
   "metadata": {},
   "source": [
    "## Reference Return\n",
    "\n",
    "For objects, when a method returns an object, it's essentially returning a reference to that object, not a fresh copy. This becomes pivotal when dealing with mutable objects."
   ]
  },
  {
   "cell_type": "code",
   "execution_count": null,
   "metadata": {},
   "outputs": [],
   "source": [
    "public class Box {\n",
    "    private ArrayList<String> items;\n",
    "\n",
    "    public Box() {\n",
    "        items = new ArrayList<>();\n",
    "    }\n",
    "\n",
    "    public ArrayList<String> getItems() {\n",
    "        return items;\n",
    "    }\n",
    "}"
   ]
  },
  {
   "cell_type": "markdown",
   "metadata": {},
   "source": [
    "If you append an item to the ArrayList returned by `getItems`, will it modify the original `items` in the `Box` object?\n",
    "\n",
    "Answer: "
   ]
  },
  {
   "cell_type": "markdown",
   "metadata": {},
   "source": [
    "## `toString` Method\n",
    "\n",
    "The `toString` method offers a string representation of an object. By default, it returns the class name followed by its memory address. However, it's a common practice to override this method to provide a more descriptive representation."
   ]
  },
  {
   "cell_type": "code",
   "execution_count": 2,
   "metadata": {},
   "outputs": [
    {
     "name": "stdout",
     "output_type": "stream",
     "text": [
      "Circle with radius: 5.0\n"
     ]
    }
   ],
   "source": [
    "public class Circle {\n",
    "    private double radius;\n",
    "\n",
    "    public Circle(double r) {\n",
    "        this.radius = r;\n",
    "    }\n",
    "\n",
    "    @Override\n",
    "    public String toString() {\n",
    "        return \"Circle with radius: \" + radius;\n",
    "    }\n",
    "\n",
    "    public static void main(String[] args) {\n",
    "        Circle circle = new Circle(5.0);\n",
    "        System.out.println(circle); // This will implicitly call the toString() method\n",
    "    }\n",
    "}\n",
    "\n",
    "Circle.main(null);"
   ]
  },
  {
   "cell_type": "markdown",
   "metadata": {},
   "source": [
    "Without overriding, what would the default `toString` method return?\n",
    "\n",
    "Answer: "
   ]
  },
  {
   "cell_type": "markdown",
   "metadata": {},
   "source": [
    "# Topic 5.5: Mutator Methods\n",
    "\n",
    "Mutator methods, often referred to as \"setters\", play a crucial role in object-oriented programming. They allow controlled modification of an object's state. While accessor methods (\"getters\") retrieve the state of an object, mutator methods modify it.\n",
    "\n",
    "## Void Methods\n",
    "\n",
    "A **void method** does not return any value. Instead, its primary purpose is to perform an action. The keyword `void` in the method's header signifies that the method won't return any value."
   ]
  },
  {
   "cell_type": "code",
   "execution_count": 2,
   "metadata": {},
   "outputs": [
    {
     "name": "stdout",
     "output_type": "stream",
     "text": [
      "Hello, World!\n"
     ]
    }
   ],
   "source": [
    "public class exampleVoid {\n",
    "    public void displayMessage() {\n",
    "        System.out.println(\"Hello, World!\");\n",
    "    }\n",
    "\n",
    "    public static void main(String[] args) {\n",
    "        exampleVoid example = new exampleVoid();\n",
    "        example.displayMessage();\n",
    "    }\n",
    "}\n",
    "\n",
    "exampleVoid.main(null);"
   ]
  },
  {
   "cell_type": "markdown",
   "metadata": {},
   "source": [
    "In the example above, the `displayMessage` method doesn't return any value; it simply prints a message to the console.\n",
    "\n",
    "## Mutator (Modifier) Methods\n",
    "\n",
    "A **mutator method** is typically a void method that alters the values of instance or static variables. These methods ensure that the internal state of an object can be changed in a controlled manner, adhering to the principles of data encapsulation and data integrity.\n",
    "\n",
    "Consider a class `Rectangle`:"
   ]
  },
  {
   "cell_type": "code",
   "execution_count": 4,
   "metadata": {},
   "outputs": [
    {
     "name": "stdout",
     "output_type": "stream",
     "text": [
      "Invalid width provided.\n"
     ]
    }
   ],
   "source": [
    "public class Rectangle {\n",
    "    private double length;\n",
    "    private double width;\n",
    "\n",
    "    // Mutator method for length\n",
    "    public void setLength(double length) {\n",
    "        if (length > 0) {\n",
    "            this.length = length;\n",
    "        } else {\n",
    "            System.out.println(\"Invalid length provided.\");\n",
    "        }\n",
    "    }\n",
    "\n",
    "    // Mutator method for width\n",
    "    public void setWidth(double width) {\n",
    "        if (width > 0) {\n",
    "            this.width = width;\n",
    "        } else {\n",
    "            System.out.println(\"Invalid width provided.\");\n",
    "        }\n",
    "    }\n",
    "\n",
    "    public static void main(String[] args) {\n",
    "        Rectangle rect = new Rectangle();\n",
    "        rect.setLength(5);\n",
    "        rect.setWidth(-3);\n",
    "    }\n",
    "}\n",
    "\n",
    "Rectangle.main(null);"
   ]
  },
  {
   "cell_type": "markdown",
   "metadata": {},
   "source": [
    "In the `Rectangle` class, the methods `setLength` and `setWidth` are mutator methods. They allow the modification of the `length` and `width` attributes, respectively, while ensuring that only valid values are set.\n",
    "\n",
    "Suppose you add another method to the `Rectangle` class called `setDimensions` which takes a single string parameter in the format \"length,width\" (e.g., \"10,5\"). This method should parse the string, validate the values, and then set the `length` and `width` accordingly. If the string is in an invalid format or contains negative values, it should print an error message. Can you draft this method?"
   ]
  },
  {
   "cell_type": "markdown",
   "metadata": {},
   "source": [
    "# Topic 5.6: Writing Methods\n",
    "\n",
    "Methods in Java allow us to define behaviors for objects. When these methods are non-void and have parameters, they can return a value based on the provided arguments.\n",
    "\n",
    "## Accessing Private Data\n",
    "\n",
    "Methods can only access the private data and methods of a parameter that is a reference to an object when the parameter is of the same type as the method's enclosing class. This ensures data encapsulation and integrity."
   ]
  },
  {
   "cell_type": "code",
   "execution_count": 10,
   "metadata": {},
   "outputs": [
    {
     "name": "stdout",
     "output_type": "stream",
     "text": [
      "10\n"
     ]
    }
   ],
   "source": [
    "public class MyClass {\n",
    "    private int privateData = 10;\n",
    "\n",
    "    public int getPrivateData() {\n",
    "        return privateData;\n",
    "    }\n",
    "\n",
    "    public static void main (String[] args) {\n",
    "        MyClass example = new MyClass();\n",
    "        int integer = example.getPrivateData();\n",
    "        System.out.println(integer);\n",
    "    }\n",
    "}\n",
    "\n",
    "MyClass.main(null);"
   ]
  },
  {
   "cell_type": "markdown",
   "metadata": {},
   "source": [
    "# Non-Void Methods with Parameters\n",
    "\n",
    "These methods are designed to receive values, process them, and return a computed result."
   ]
  },
  {
   "cell_type": "code",
   "execution_count": 11,
   "metadata": {},
   "outputs": [
    {
     "name": "stdout",
     "output_type": "stream",
     "text": [
      "Area: 50.0\n"
     ]
    }
   ],
   "source": [
    "public class AreaCalculator {\n",
    "    public double calculateArea(double length, double width) {\n",
    "        return length * width;\n",
    "    }\n",
    "\n",
    "    public static void main(String[] args) {\n",
    "        AreaCalculator calculator = new AreaCalculator();\n",
    "        double area = calculator.calculateArea(5, 10);\n",
    "        System.out.println(\"Area: \" + area);\n",
    "    }\n",
    "}\n",
    "\n",
    "AreaCalculator.main(null);"
   ]
  },
  {
   "cell_type": "markdown",
   "metadata": {},
   "source": [
    "# Handling Mutable Objects\n",
    "\n",
    "It's a good programming practice not to modify mutable objects passed as parameters unless it's explicitly required.\n",
    "\n",
    "**Why?** Modifying mutable objects that are passed as parameters can lead to unintended side effects in the calling code. The calling code might not expect the object to be modified, and this can introduce bugs that are hard to trace. By avoiding the modification of passed objects, you ensure that the function or method is \"pure\" and doesn't produce unexpected side effects."
   ]
  },
  {
   "cell_type": "code",
   "execution_count": 13,
   "metadata": {},
   "outputs": [],
   "source": [
    "import java.util.ArrayList;\n",
    "\n",
    "public class ListModifier {\n",
    "    public void modifyList(ArrayList<String> list) {\n",
    "        // Not recommended unless explicitly required\n",
    "        list.add(\"New Item\");\n",
    "    }\n",
    "\n",
    "    public static void main(String[] args) {\n",
    "        ArrayList<String> items = new ArrayList<>();\n",
    "        items.add(\"Original Item\");\n",
    "        \n",
    "        ListModifier modifier = new ListModifier();\n",
    "        modifier.modifyList(items);\n",
    "        \n",
    "        System.out.println(items);\n",
    "    }\n",
    "}"
   ]
  },
  {
   "cell_type": "markdown",
   "metadata": {},
   "source": [
    "Question: What will be the output of the above code?\n",
    "\n",
    "Answer: "
   ]
  },
  {
   "cell_type": "markdown",
   "metadata": {},
   "source": [
    "# Primitive vs. Reference Parameters\n",
    "\n",
    "When a method's parameter is a primitive type, changes to it inside the method won't affect the original value. However, for reference types, changes inside the method will reflect on the original object."
   ]
  },
  {
   "cell_type": "code",
   "execution_count": 15,
   "metadata": {},
   "outputs": [
    {
     "name": "stdout",
     "output_type": "stream",
     "text": [
      "Number: 10\n",
      "List: [Modified]\n"
     ]
    }
   ],
   "source": [
    "import java.util.ArrayList;\n",
    "\n",
    "public class ValueModifier {\n",
    "    public void modifyValues(int num, ArrayList<String> list) {\n",
    "        num = 20;\n",
    "        list.add(\"Modified\");\n",
    "    }\n",
    "\n",
    "    public static void main(String[] args) {\n",
    "        int number = 10;\n",
    "        ArrayList<String> items = new ArrayList<>();\n",
    "        \n",
    "        ValueModifier modifier = new ValueModifier();\n",
    "        modifier.modifyValues(number, items);\n",
    "        \n",
    "        System.out.println(\"Number: \" + number);\n",
    "        System.out.println(\"List: \" + items);\n",
    "    }\n",
    "}\n",
    "\n",
    "ValueModifier.main(null);"
   ]
  },
  {
   "cell_type": "markdown",
   "metadata": {},
   "source": [
    "When a reference is passed to a method, both the original and the parameter inside the method point to the same memory location. This is termed as aliasing."
   ]
  },
  {
   "cell_type": "code",
   "execution_count": null,
   "metadata": {},
   "outputs": [],
   "source": [
    "public class AliasingExample {\n",
    "    public void addToList(ArrayList<String> list) {\n",
    "        list.add(\"Aliased Item\");\n",
    "    }\n",
    "\n",
    "    public static void main(String[] args) {\n",
    "        ArrayList<String> items = new ArrayList<>();\n",
    "        \n",
    "        AliasingExample example = new AliasingExample();\n",
    "        example.addToList(items);\n",
    "        \n",
    "        System.out.println(items);\n",
    "    }\n",
    "}"
   ]
  },
  {
   "cell_type": "markdown",
   "metadata": {},
   "source": [
    "Given the `AliasingExample` class, add a method named `removeFromList` that removes an item from the list based on its index. After adding the item \"Aliased Item\" using the `addToList` method, use the `removeFromList` method to remove it.\n",
    "\n",
    "**Note**: Due to aliasing, changes made to the list inside the method will reflect on the original list."
   ]
  },
  {
   "cell_type": "markdown",
   "metadata": {},
   "source": [
    "# Topic 5.7: Static Variables and Methods\n",
    "\n",
    "In Java, the `static` keyword plays a pivotal role in the realm of Object-Oriented Programming. It allows variables and methods to be associated with the class itself rather than instances of the class. Let's delve deeper into the world of static components.\n",
    "\n",
    "## Static Variables\n",
    "\n",
    "Static variables, unlike instance variables, are associated with the class itself and not with any specific instance. This means there's only one copy of a static variable, which is shared among all instances of the class.\n",
    "\n",
    "### Key Points:\n",
    "\n",
    "- **Single Copy**: All instances of the class share the same copy of the static variable. This means if one object modifies a static variable, it reflects in all other instances.\n",
    "- **Access Modifiers**: Static variables can be either `public` or `private`, determining their visibility.\n",
    "- **Usage**: They are accessed using the class name, not through an instance."
   ]
  },
  {
   "cell_type": "code",
   "execution_count": null,
   "metadata": {},
   "outputs": [],
   "source": [
    "public class Student {\n",
    "    private static int studentCount = 0;\n",
    "    private String name;\n",
    "\n",
    "    public Student(String name) {\n",
    "        this.name = name;\n",
    "        studentCount++;\n",
    "    }\n",
    "\n",
    "    public static int getStudentCount() {\n",
    "        return studentCount;\n",
    "    }\n",
    "\n",
    "    public static void main(String[] args) {\n",
    "        Student alice = new Student(\"Alice\");\n",
    "        Student bob = new Student(\"Bob\");\n",
    "        System.out.println(\"Total Students: \" + Student.getStudentCount());\n",
    "    }\n",
    "}\n"
   ]
  },
  {
   "cell_type": "markdown",
   "metadata": {},
   "source": [
    "Question: If another student, Vardaan, enrolls, what will be the output of `Student.getStudentCount()`?\n",
    "\n",
    "Answer: "
   ]
  },
  {
   "cell_type": "markdown",
   "metadata": {},
   "source": [
    "## Static Methods\n",
    "\n",
    "Static methods are methods that belong to the class, not any specific instance. This means you can call a static method without creating an object of the class.\n",
    "\n",
    "### Key Points:\n",
    "- **Association with Class**: Static methods are not tied to an instance of the class. This means they can't access instance variables or methods directly.\n",
    "- **Access Restrictions**: Static methods cannot access instance variables or call non-static methods directly. They can only access static variables or call other static methods.\n",
    "- **Usage**: They are called using the class name."
   ]
  },
  {
   "cell_type": "code",
   "execution_count": null,
   "metadata": {},
   "outputs": [],
   "source": [
    "public class MathUtility {\n",
    "    public int num;\n",
    "    \n",
    "    public static int square(int number) {\n",
    "        return number * number;\n",
    "    }\n",
    "\n",
    "    public static void main(String[] args) {\n",
    "        int result = MathUtility.square(num);\n",
    "        System.out.println(\"Square: \" + result);\n",
    "    }\n",
    "}"
   ]
  },
  {
   "cell_type": "markdown",
   "metadata": {},
   "source": [
    "Question: What is the problem with the above code (do not run the cell)?\n",
    "\n",
    "Answer: "
   ]
  },
  {
   "cell_type": "markdown",
   "metadata": {},
   "source": [
    "## Aliasing in Static Components\n",
    "\n",
    "Given that static variables are shared among all instances, changes in one instance reflect in others. This is a form of aliasing, where multiple references point to the same memory location."
   ]
  },
  {
   "cell_type": "code",
   "execution_count": 19,
   "metadata": {},
   "outputs": [
    {
     "name": "stdout",
     "output_type": "stream",
     "text": [
      "Shared count after incrementing in obj1: 1\n",
      "Shared count after incrementing in obj2: 2\n"
     ]
    }
   ],
   "source": [
    "public class SharedResource {\n",
    "    // Static variable shared among all instances\n",
    "    public static int sharedCount = 0;\n",
    "\n",
    "    public void incrementCount() {\n",
    "        sharedCount++;\n",
    "    }\n",
    "\n",
    "    public static void main(String[] args) {\n",
    "        SharedResource obj1 = new SharedResource();\n",
    "        SharedResource obj2 = new SharedResource();\n",
    "\n",
    "        obj1.incrementCount();\n",
    "        System.out.println(\"Shared count after incrementing in obj1: \" + SharedResource.sharedCount);\n",
    "\n",
    "        obj2.incrementCount();\n",
    "        System.out.println(\"Shared count after incrementing in obj2: \" + SharedResource.sharedCount);\n",
    "    }\n",
    "}\n",
    "\n",
    "SharedResource.main(null);"
   ]
  },
  {
   "cell_type": "markdown",
   "metadata": {},
   "source": [
    "When you run the above code, you'll notice that the `sharedCount` variable is incremented by both `obj1` and `obj2`, demonstrating that the static variable is indeed shared among all instances."
   ]
  },
  {
   "cell_type": "markdown",
   "metadata": {},
   "source": [
    "# Topic 5.8: Scope and Access\n",
    "\n",
    "In Java, the scope of a variable determines where it can be accessed or modified. The scope is defined by where the variable is declared. Let's delve into the intricacies of variable scope and access in Java."
   ]
  },
  {
   "cell_type": "markdown",
   "metadata": {},
   "source": [
    "## Local \n",
    "\n",
    "Local variables are declared within methods or constructors. Their scope is limited to the block in which they are declared, which means they can't be accessed outside of that block.\n",
    "\n",
    "**Key Points**:\n",
    "\n",
    "- **Declaration**: Local variables can be declared in methods or constructors.\n",
    "- **Accessibility**: They can only be used within the method or constructor where they are declared.\n",
    "- **Modifiers**: Local variables cannot have access modifiers like `public` or `private`."
   ]
  },
  {
   "cell_type": "code",
   "execution_count": null,
   "metadata": {},
   "outputs": [],
   "source": [
    "public class LocalVariableExample {\n",
    "    public void displayMessage() {\n",
    "        String localVariable = \"Hello, World!\";\n",
    "        System.out.println(localVariable);\n",
    "    }\n",
    "\n",
    "    public static void main(String[] args) {\n",
    "        LocalVariableExample example = new LocalVariableExample();\n",
    "        example.displayMessage();\n",
    "    }\n",
    "}\n",
    "\n",
    "LocalVariableExample.main(null);"
   ]
  },
  {
   "cell_type": "markdown",
   "metadata": {},
   "source": [
    "In the above code, `localVariable` is a local variable that can only be accessed within the `displayMessage` method.\n",
    "\n",
    "## Shadowing\n",
    "\n",
    "When a local variable has the same name as an instance variable, the local variable shadows or hides the instance variable. In such cases, the local variable takes precedence."
   ]
  },
  {
   "cell_type": "code",
   "execution_count": 21,
   "metadata": {},
   "outputs": [
    {
     "name": "stdout",
     "output_type": "stream",
     "text": [
      "5\n",
      "10\n"
     ]
    }
   ],
   "source": [
    "public class ShadowExample {\n",
    "    private int value = 10;\n",
    "\n",
    "    public void printValue(int value) {\n",
    "        System.out.println(value);  // Refers to the local variable\n",
    "        System.out.println(this.value);  // Refers to the instance variable\n",
    "    }\n",
    "\n",
    "    public static void main(String[] args) {\n",
    "        ShadowExample example = new ShadowExample();\n",
    "        example.printValue(5);\n",
    "    }\n",
    "}\n",
    "\n",
    "ShadowExample.main(null);"
   ]
  },
  {
   "cell_type": "markdown",
   "metadata": {},
   "source": [
    "Question: In the `ShadowExample` class, if we didn't use the `this` keyword, which `value` would the method refer to?\n",
    "\n",
    "Answer: "
   ]
  },
  {
   "cell_type": "markdown",
   "metadata": {},
   "source": [
    "## Formal Parameters\n",
    "\n",
    "Formal parameters in methods or constructors are treated as local variables. Their scope is limited to the method or constructor in which they are defined."
   ]
  },
  {
   "cell_type": "code",
   "execution_count": 22,
   "metadata": {},
   "outputs": [
    {
     "name": "stdout",
     "output_type": "stream",
     "text": [
      "Name: John\n",
      "Age: 25\n"
     ]
    }
   ],
   "source": [
    "public class DetailsDisplay {\n",
    "    public void displayDetails(String name, int age) {\n",
    "        System.out.println(\"Name: \" + name);\n",
    "        System.out.println(\"Age: \" + age);\n",
    "    }\n",
    "\n",
    "    public static void main(String[] args) {\n",
    "        DetailsDisplay display = new DetailsDisplay();\n",
    "        display.displayDetails(\"John\", 25);\n",
    "    }\n",
    "}\n",
    "\n",
    "DetailsDisplay.main(null);"
   ]
  },
  {
   "cell_type": "markdown",
   "metadata": {},
   "source": [
    "\n",
    "In the above method, `name` and `age` are formal parameters and can only be accessed within the `displayDetails` method."
   ]
  },
  {
   "cell_type": "markdown",
   "metadata": {},
   "source": [
    "### Method Decomposition\n",
    "\n",
    "Method decomposition is a programming technique where a complex problem is broken down into smaller, more manageable subproblems. Each subproblem is solved using a separate method. This approach promotes modularity and reusability.\n",
    "\n",
    "For instance, consider the following example for calculating the area and perimeter of a rectangle:"
   ]
  },
  {
   "cell_type": "code",
   "execution_count": 23,
   "metadata": {},
   "outputs": [
    {
     "name": "stdout",
     "output_type": "stream",
     "text": [
      "Area: 50.0\n",
      "Perimeter: 30.0\n"
     ]
    }
   ],
   "source": [
    "public class RectangleOperations {\n",
    "    public double calculateArea(double length, double width) {\n",
    "        return length * width;\n",
    "    }\n",
    "\n",
    "    public double calculatePerimeter(double length, double width) {\n",
    "        return 2 * (length + width);\n",
    "    }\n",
    "\n",
    "    public static void main(String[] args) {\n",
    "        RectangleOperations operations = new RectangleOperations();\n",
    "        System.out.println(\"Area: \" + operations.calculateArea(5, 10));\n",
    "        System.out.println(\"Perimeter: \" + operations.calculatePerimeter(5, 10));\n",
    "    }\n",
    "}\n",
    "\n",
    "RectangleOperations.main(null);"
   ]
  }
 ],
 "metadata": {
  "kernelspec": {
   "display_name": "Java",
   "language": "java",
   "name": "java"
  },
  "language_info": {
   "codemirror_mode": "java",
   "file_extension": ".jshell",
   "mimetype": "text/x-java-source",
   "name": "java",
   "pygments_lexer": "java",
   "version": "11.0.20+8-post-Ubuntu-1ubuntu120.04"
  }
 },
 "nbformat": 4,
 "nbformat_minor": 2
}
